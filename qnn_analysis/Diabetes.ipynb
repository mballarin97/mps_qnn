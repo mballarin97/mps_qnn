{
 "cells": [
  {
   "cell_type": "markdown",
   "id": "0b5f24aa",
   "metadata": {},
   "source": [
    "# Diabetes analysis using QNN\n",
    "This has been collected using direct questionnaires from the patients of Sylhet Diabetes\n",
    "Hospital in Sylhet, Bangladesh and approved by a doctor. The dataset has the following features:\n",
    "- Age [continuous] 1.20-65\n",
    "- Sex [categorical] 1. Male, 2.Female\n",
    "- Polyuria [categorical] 1.Yes, 2.No.\n",
    "- Polydipsia [categorical] 1.Yes, 2.No.\n",
    "- sudden weight loss [categorical] 1.Yes, 2.No.\n",
    "- weakness [categorical] 1.Yes, 2.No.\n",
    "- Polyphagia [categorical] 1.Yes, 2.No.\n",
    "- Genital thrush [categorical] 1.Yes, 2.No.\n",
    "- visual blurring [categorical] 1.Yes, 2.No.\n",
    "- Itching [categorical] 1.Yes, 2.No.\n",
    "- Irritability [categorical] 1.Yes, 2.No.\n",
    "- delayed healing [categorical] 1.Yes, 2.No.\n",
    "- partial paresis [categorical] 1.Yes, 2.No.\n",
    "- muscle stifness [categorical] 1.Yes, 2.No.\n",
    "- Alopecia [categorical] 1.Yes, 2.No.\n",
    "- Obesity [categorical] 1.Yes, 2.No.\n",
    "\n",
    "- Class 1.Positive, 2.Negative."
   ]
  },
  {
   "cell_type": "code",
   "execution_count": 1,
   "id": "d2bfa7f9",
   "metadata": {},
   "outputs": [
    {
     "name": "stderr",
     "output_type": "stream",
     "text": [
      "C:\\Users\\win10\\anaconda3\\envs\\quantum\\lib\\site-packages\\qiskit\\__init__.py:67: DeprecationWarning: Using Qiskit with Python 3.6 is deprecated as of the 0.17.0 release. Support for running Qiskit with Python 3.6 will be removed in a future release.\n",
      "  \"future release.\", DeprecationWarning)\n"
     ]
    }
   ],
   "source": [
    "from qiskit import QuantumCircuit\n",
    "from qiskit.utils import QuantumInstance, algorithm_globals\n",
    "from qiskit.algorithms.optimizers import COBYLA, ADAM\n",
    "from qiskit.circuit.library import TwoLocal, ZZFeatureMap\n",
    "from qiskit_machine_learning.algorithms import VQC\n",
    "from qiskit.providers.aer import QasmSimulator\n",
    "\n",
    "import numpy as np\n",
    "import matplotlib.pyplot as plt\n",
    "from time import time\n",
    "from tqdm import tqdm\n",
    "import numpy as np \n",
    "import pandas as pd\n",
    "\n",
    "seed = 1376\n",
    "algorithm_globals.random_seed = seed"
   ]
  },
  {
   "cell_type": "markdown",
   "id": "5437cf44",
   "metadata": {},
   "source": [
    "## Importing the dataset\n",
    "\n",
    "Most of the dataset is categorical. We need to map it to an integer notation to actually use it on the quantum circuits. We choose to map the first feature (`Yes`, `Male`) to $1$, and the second to $-1$. We then apply a normalization to the continuous variable, the Age.\n",
    "\n",
    "Finally, for the class we use the one hot encoding."
   ]
  },
  {
   "cell_type": "code",
   "execution_count": 42,
   "id": "589993cc",
   "metadata": {},
   "outputs": [],
   "source": [
    "data = pd.read_csv('data/diabetes/data.csv')\n",
    "\n",
    "# Features\n",
    "data.replace('Yes', 1, inplace=True)\n",
    "data.replace('No', -1, inplace=True)\n",
    "data.replace('Male', 1, inplace=True)\n",
    "data.replace('Female', -1, inplace=True)\n",
    "data['Age'] = (data['Age']-data['Age'].mean())/data['Age'].std()\n",
    "\n",
    "# Class\n",
    "data.replace('Positive', 1, inplace=True)\n",
    "data.replace('Negative', 0, inplace=True)"
   ]
  },
  {
   "cell_type": "code",
   "execution_count": 43,
   "id": "74e13bd2",
   "metadata": {},
   "outputs": [
    {
     "data": {
      "text/html": [
       "<div>\n",
       "<style scoped>\n",
       "    .dataframe tbody tr th:only-of-type {\n",
       "        vertical-align: middle;\n",
       "    }\n",
       "\n",
       "    .dataframe tbody tr th {\n",
       "        vertical-align: top;\n",
       "    }\n",
       "\n",
       "    .dataframe thead th {\n",
       "        text-align: right;\n",
       "    }\n",
       "</style>\n",
       "<table border=\"1\" class=\"dataframe\">\n",
       "  <thead>\n",
       "    <tr style=\"text-align: right;\">\n",
       "      <th></th>\n",
       "      <th>Age</th>\n",
       "      <th>Gender</th>\n",
       "      <th>Polyuria</th>\n",
       "      <th>Polydipsia</th>\n",
       "      <th>sudden weight loss</th>\n",
       "      <th>weakness</th>\n",
       "      <th>Polyphagia</th>\n",
       "      <th>Genital thrush</th>\n",
       "      <th>visual blurring</th>\n",
       "      <th>Itching</th>\n",
       "      <th>Irritability</th>\n",
       "      <th>delayed healing</th>\n",
       "      <th>partial paresis</th>\n",
       "      <th>muscle stiffness</th>\n",
       "      <th>Alopecia</th>\n",
       "      <th>Obesity</th>\n",
       "      <th>class</th>\n",
       "    </tr>\n",
       "  </thead>\n",
       "  <tbody>\n",
       "    <tr>\n",
       "      <th>0</th>\n",
       "      <td>-0.660731</td>\n",
       "      <td>1</td>\n",
       "      <td>-1</td>\n",
       "      <td>1</td>\n",
       "      <td>-1</td>\n",
       "      <td>1</td>\n",
       "      <td>-1</td>\n",
       "      <td>-1</td>\n",
       "      <td>-1</td>\n",
       "      <td>1</td>\n",
       "      <td>-1</td>\n",
       "      <td>1</td>\n",
       "      <td>-1</td>\n",
       "      <td>1</td>\n",
       "      <td>1</td>\n",
       "      <td>1</td>\n",
       "      <td>1</td>\n",
       "    </tr>\n",
       "    <tr>\n",
       "      <th>1</th>\n",
       "      <td>0.820572</td>\n",
       "      <td>1</td>\n",
       "      <td>-1</td>\n",
       "      <td>-1</td>\n",
       "      <td>-1</td>\n",
       "      <td>1</td>\n",
       "      <td>-1</td>\n",
       "      <td>-1</td>\n",
       "      <td>1</td>\n",
       "      <td>-1</td>\n",
       "      <td>-1</td>\n",
       "      <td>-1</td>\n",
       "      <td>1</td>\n",
       "      <td>-1</td>\n",
       "      <td>1</td>\n",
       "      <td>-1</td>\n",
       "      <td>1</td>\n",
       "    </tr>\n",
       "    <tr>\n",
       "      <th>2</th>\n",
       "      <td>-0.578436</td>\n",
       "      <td>1</td>\n",
       "      <td>1</td>\n",
       "      <td>-1</td>\n",
       "      <td>-1</td>\n",
       "      <td>1</td>\n",
       "      <td>1</td>\n",
       "      <td>-1</td>\n",
       "      <td>-1</td>\n",
       "      <td>1</td>\n",
       "      <td>-1</td>\n",
       "      <td>1</td>\n",
       "      <td>-1</td>\n",
       "      <td>1</td>\n",
       "      <td>1</td>\n",
       "      <td>-1</td>\n",
       "      <td>1</td>\n",
       "    </tr>\n",
       "    <tr>\n",
       "      <th>3</th>\n",
       "      <td>-0.249258</td>\n",
       "      <td>1</td>\n",
       "      <td>-1</td>\n",
       "      <td>-1</td>\n",
       "      <td>1</td>\n",
       "      <td>1</td>\n",
       "      <td>1</td>\n",
       "      <td>1</td>\n",
       "      <td>-1</td>\n",
       "      <td>1</td>\n",
       "      <td>-1</td>\n",
       "      <td>1</td>\n",
       "      <td>-1</td>\n",
       "      <td>-1</td>\n",
       "      <td>-1</td>\n",
       "      <td>-1</td>\n",
       "      <td>1</td>\n",
       "    </tr>\n",
       "    <tr>\n",
       "      <th>4</th>\n",
       "      <td>0.985161</td>\n",
       "      <td>1</td>\n",
       "      <td>1</td>\n",
       "      <td>1</td>\n",
       "      <td>1</td>\n",
       "      <td>1</td>\n",
       "      <td>1</td>\n",
       "      <td>-1</td>\n",
       "      <td>1</td>\n",
       "      <td>1</td>\n",
       "      <td>1</td>\n",
       "      <td>1</td>\n",
       "      <td>1</td>\n",
       "      <td>1</td>\n",
       "      <td>1</td>\n",
       "      <td>1</td>\n",
       "      <td>1</td>\n",
       "    </tr>\n",
       "  </tbody>\n",
       "</table>\n",
       "</div>"
      ],
      "text/plain": [
       "        Age  Gender  Polyuria  Polydipsia  sudden weight loss  weakness  \\\n",
       "0 -0.660731       1        -1           1                  -1         1   \n",
       "1  0.820572       1        -1          -1                  -1         1   \n",
       "2 -0.578436       1         1          -1                  -1         1   \n",
       "3 -0.249258       1        -1          -1                   1         1   \n",
       "4  0.985161       1         1           1                   1         1   \n",
       "\n",
       "   Polyphagia  Genital thrush  visual blurring  Itching  Irritability  \\\n",
       "0          -1              -1               -1        1            -1   \n",
       "1          -1              -1                1       -1            -1   \n",
       "2           1              -1               -1        1            -1   \n",
       "3           1               1               -1        1            -1   \n",
       "4           1              -1                1        1             1   \n",
       "\n",
       "   delayed healing  partial paresis  muscle stiffness  Alopecia  Obesity  \\\n",
       "0                1               -1                 1         1        1   \n",
       "1               -1                1                -1         1       -1   \n",
       "2                1               -1                 1         1       -1   \n",
       "3                1               -1                -1        -1       -1   \n",
       "4                1                1                 1         1        1   \n",
       "\n",
       "   class  \n",
       "0      1  \n",
       "1      1  \n",
       "2      1  \n",
       "3      1  \n",
       "4      1  "
      ]
     },
     "execution_count": 43,
     "metadata": {},
     "output_type": "execute_result"
    }
   ],
   "source": [
    "data.head()"
   ]
  },
  {
   "cell_type": "code",
   "execution_count": 44,
   "id": "a40e8100",
   "metadata": {},
   "outputs": [],
   "source": [
    "# Number of features, i.e. of qubits in the circuit\n",
    "features = data.iloc[:, :-1].to_numpy()\n",
    "labels = data.iloc[:, -1].to_numpy()\n",
    "labels = np.array([ [0, 1] if l==0 else [1, 0] for l in labels ])\n",
    "\n",
    "feature_dim = features.shape[1]"
   ]
  },
  {
   "cell_type": "markdown",
   "id": "8db55011",
   "metadata": {},
   "source": [
    "## Circuit preparation"
   ]
  },
  {
   "cell_type": "markdown",
   "id": "ea00d81e",
   "metadata": {},
   "source": [
    "We use a ZZFeature map, with linear entanglement (i.e. only local gates), to map the data points to the quantum circuit, and then a TwoLocal ansazt as neural network, having $32$ trainable parameters."
   ]
  },
  {
   "cell_type": "code",
   "execution_count": 45,
   "id": "ca0e5ede",
   "metadata": {},
   "outputs": [],
   "source": [
    "feature_map = ZZFeatureMap(feature_dimension=feature_dim, reps=4, entanglement='linear', insert_barriers=True)\n",
    "ansatz = TwoLocal(feature_dim, ['ry'], 'cx', reps=1, entanglement='linear')"
   ]
  },
  {
   "cell_type": "code",
   "execution_count": 27,
   "id": "7152bfab",
   "metadata": {},
   "outputs": [],
   "source": [
    "from sklearn.metrics import log_loss\n",
    "\n",
    "algorithm_globals.random_seed = seed\n",
    "np.random.seed(123)\n",
    "\n",
    "loss_sv = []\n",
    "n_epochs = 1\n",
    "start = time()\n",
    "vqc_sv = VQC(feature_map=feature_map,\n",
    "          ansatz=ansatz,\n",
    "          optimizer=ADAM(lr=1e-1, maxiter=1, snapshot_dir='data/diabetes/'),\n",
    "          quantum_instance=QuantumInstance(QasmSimulator(method='statevector'),\n",
    "                                           shots=1024,\n",
    "                                           seed_simulator=seed,\n",
    "                                           seed_transpiler=seed),\n",
    "          warm_start=True\n",
    "          )"
   ]
  },
  {
   "cell_type": "code",
   "execution_count": 46,
   "id": "5e2080e8",
   "metadata": {},
   "outputs": [
    {
     "name": "stderr",
     "output_type": "stream",
     "text": [
      "100%|██████████████████████████████████████████████████████████████████████████████████| 1/1 [47:36<00:00, 2856.11s/it]\n"
     ]
    },
    {
     "name": "stdout",
     "output_type": "stream",
     "text": [
      "Score: 0.47\n",
      "Time: 4514.45\n"
     ]
    }
   ],
   "source": [
    "starting_params = np.random.uniform(-1, 1, len(ansatz.parameters))\n",
    "vqc_sv._fit_result = [starting_params ]\n",
    " \n",
    "for i in tqdm(range(n_epochs) ):\n",
    "    idx = np.random.randint(0, features.shape[0], 64)\n",
    "    training_features = features[idx,:]\n",
    "    training_labels = labels[idx]\n",
    "    #print(vqc_sv._fit_result)\n",
    "    vqc_sv.fit(training_features, training_labels)\n",
    "    loss_sv.append( log_loss(  training_labels, vqc_sv.predict(training_features) ) )\n",
    "    #vqc_sv._optimizer.load_params('data/MPS-STATEVECT_IRIS')\n",
    "\n",
    "score_sv = vqc_sv.score(training_features, training_labels)\n",
    "print('Score: {:0.2f}'.format(score_sv))\n",
    "print('Time: {:0.2f}'.format(time()-start))"
   ]
  },
  {
   "cell_type": "code",
   "execution_count": 32,
   "id": "7e8a9edc",
   "metadata": {},
   "outputs": [
    {
     "data": {
      "text/plain": [
       "(64, 16)"
      ]
     },
     "execution_count": 32,
     "metadata": {},
     "output_type": "execute_result"
    }
   ],
   "source": []
  },
  {
   "cell_type": "code",
   "execution_count": 50,
   "id": "edfb40f1",
   "metadata": {},
   "outputs": [],
   "source": [
    "from sklearn.metrics import log_loss\n",
    "\n",
    "algorithm_globals.random_seed = seed\n",
    "np.random.seed(123)\n",
    "\n",
    "loss_mps = []\n",
    "n_epochs = 1\n",
    "start = time()\n",
    "vqc_mps = VQC(feature_map=feature_map,\n",
    "          ansatz=ansatz,\n",
    "          optimizer=ADAM(lr=1e-1, maxiter=1, snapshot_dir='data/diabetes/'),\n",
    "          quantum_instance=QuantumInstance(QasmSimulator(method='matrix_product_state', \n",
    "                                                         matrix_product_state_max_bond_dimension=4),\n",
    "                                           shots=1024,\n",
    "                                           seed_simulator=seed,\n",
    "                                           seed_transpiler=seed),\n",
    "          warm_start=True\n",
    "          )"
   ]
  },
  {
   "cell_type": "code",
   "execution_count": null,
   "id": "8fe64966",
   "metadata": {},
   "outputs": [
    {
     "name": "stderr",
     "output_type": "stream",
     "text": [
      "\r",
      "  0%|                                                                                            | 0/1 [00:00<?, ?it/s]"
     ]
    }
   ],
   "source": [
    "starting_params = np.random.uniform(-1, 1, len(ansatz.parameters))\n",
    "vqc_mps._fit_result = [starting_params ]\n",
    " \n",
    "for i in tqdm(range(n_epochs) ):\n",
    "    idx = np.random.randint(0, features.shape[0], 64)\n",
    "    training_features = features[idx,:]\n",
    "    training_labels = labels[idx]\n",
    "    #print(vqc_sv._fit_result)\n",
    "    vqc_mps.fit(training_features, training_labels)\n",
    "    loss_mps.append( log_loss(  training_labels, vqc_sv.predict(training_features) ) )\n",
    "    #vqc_sv._optimizer.load_params('data/MPS-STATEVECT_IRIS')\n",
    "\n",
    "score_mps = vqc_mps.score(training_features, training_labels)\n",
    "print('Score: {:0.2f}'.format(score_mps))\n",
    "print('Time: {:0.2f}'.format(time()-start))"
   ]
  },
  {
   "cell_type": "code",
   "execution_count": null,
   "id": "2cfe9e3e",
   "metadata": {},
   "outputs": [],
   "source": []
  }
 ],
 "metadata": {
  "kernelspec": {
   "display_name": "Python 3",
   "language": "python",
   "name": "python3"
  },
  "language_info": {
   "codemirror_mode": {
    "name": "ipython",
    "version": 3
   },
   "file_extension": ".py",
   "mimetype": "text/x-python",
   "name": "python",
   "nbconvert_exporter": "python",
   "pygments_lexer": "ipython3",
   "version": "3.8.3"
  }
 },
 "nbformat": 4,
 "nbformat_minor": 5
}
