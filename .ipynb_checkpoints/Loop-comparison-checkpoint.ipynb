{
 "cells": [
  {
   "cell_type": "markdown",
   "id": "ed88c662",
   "metadata": {},
   "source": [
    "# Loop comparison\n",
    "\n",
    "Since in the first notebook, `MPS-STATEVECT_IRIS`, we saw that the MPS was performing better than the statevector we decided to average them over some loops to understand if the problem was some seed which was not setted correctly."
   ]
  },
  {
   "cell_type": "code",
   "execution_count": 123,
   "id": "2e572dc9",
   "metadata": {},
   "outputs": [],
   "source": [
    "from qiskit import QuantumCircuit, execute\n",
    "from qiskit.utils import QuantumInstance, algorithm_globals\n",
    "from qiskit.algorithms.optimizers import COBYLA\n",
    "from qiskit.circuit.library import TwoLocal, ZZFeatureMap\n",
    "from qiskit_machine_learning.algorithms import VQC\n",
    "from qiskit_machine_learning.datasets import iris\n",
    "from qiskit.providers.aer import QasmSimulator\n",
    "\n",
    "import numpy as np\n",
    "import matplotlib.pyplot as plt\n",
    "from time import time\n",
    "from tqdm import tqdm\n",
    "import pandas as pd\n",
    "\n",
    "seed = 1376\n",
    "algorithm_globals.random_seed = seed"
   ]
  },
  {
   "cell_type": "markdown",
   "id": "a34feab8",
   "metadata": {},
   "source": [
    "## Data preparation"
   ]
  },
  {
   "cell_type": "markdown",
   "id": "a4441da6",
   "metadata": {},
   "source": [
    "First, we use the [iris dataset](https://archive.ics.uci.edu/ml/datasets/iris). It has $4$ features, thus needing a $4$-qubit circuit, and $3$ classes. However, we are interested in doing only a binary classification. This means that we have to eliminate a class, and we will eliminate the third class for simplicity."
   ]
  },
  {
   "cell_type": "code",
   "execution_count": 124,
   "id": "7ad6321b",
   "metadata": {},
   "outputs": [],
   "source": [
    "# Use Iris data set for training and test data\n",
    "feature_dim = 4  # dimension of each data point\n",
    "training_size = 100\n",
    "test_size = 30\n",
    "\n",
    "# training features, training labels, test features, test labels as np.array,\n",
    "# one hot encoding for labels\n",
    "training_features, training_labels, test_features, test_labels = \\\n",
    "    iris(training_size=training_size, test_size=test_size, n=feature_dim)"
   ]
  },
  {
   "cell_type": "code",
   "execution_count": 125,
   "id": "13148fde",
   "metadata": {},
   "outputs": [],
   "source": [
    "training_features = training_features[ training_labels[:, 2]!=1 ]\n",
    "training_labels = training_labels[ training_labels[:, 2]!=1, :2 ]\n",
    "\n",
    "test_features = test_features[ test_labels[:, 2]!=1 ]\n",
    "test_labels = test_labels[ test_labels[:, 2]!=1, :2 ]"
   ]
  },
  {
   "cell_type": "markdown",
   "id": "8db55011",
   "metadata": {},
   "source": [
    "## Circuit preparation\n",
    "We use a ZZFeature map, with linear entanglement (i.e. only local gates), to map the data points to the quantum circuit, and then a TwoLocal ansazt as neural network, having $8$ trainable parameters."
   ]
  },
  {
   "cell_type": "code",
   "execution_count": 126,
   "id": "ae717690",
   "metadata": {},
   "outputs": [],
   "source": [
    "feature_map = ZZFeatureMap(feature_dimension=feature_dim, reps=2, entanglement='linear', insert_barriers=True)\n",
    "ansatz = TwoLocal(feature_map.num_qubits, ['ry'], 'cx', reps=1, entanglement='linear')"
   ]
  },
  {
   "cell_type": "code",
   "execution_count": 128,
   "id": "75b6419e",
   "metadata": {},
   "outputs": [],
   "source": [
    "# Definition with statevector simulator\n",
    "vqc_sv = VQC(feature_map=feature_map,\n",
    "          ansatz=ansatz,\n",
    "          optimizer=COBYLA(maxiter=50),\n",
    "          quantum_instance=QuantumInstance( QasmSimulator(method='statevector'),\n",
    "                                           shots=1024,\n",
    "                                           seed_simulator=seed,\n",
    "                                           seed_transpiler=seed),\n",
    "          warm_start=True\n",
    "          )\n",
    "vqc_sv._fit_result = [starting_params ]\n",
    "\n",
    "# Definition with mps\n",
    "vqc_mps = VQC(feature_map=feature_map,\n",
    "          ansatz=ansatz,\n",
    "          optimizer=COBYLA(maxiter=50),\n",
    "          quantum_instance=QuantumInstance(backend= QasmSimulator(method='matrix_product_state',\n",
    "                                                                  matrix_product_state_max_bond_dimension=4),\n",
    "                                           shots=1024,\n",
    "                                           seed_simulator=seed,\n",
    "                                           seed_transpiler=seed),\n",
    "          warm_start=True\n",
    "          )\n",
    "\n",
    "vqc_mps._fit_result = [starting_params ]"
   ]
  },
  {
   "cell_type": "code",
   "execution_count": 130,
   "id": "678f2346",
   "metadata": {
    "collapsed": true
   },
   "outputs": [
    {
     "name": "stderr",
     "output_type": "stream",
     "text": [
      "  3%|██▋                                                                             | 1/30 [11:00<5:19:01, 660.04s/it]"
     ]
    },
    {
     "name": "stdout",
     "output_type": "stream",
     "text": [
      "[ 0.39293837 -0.42772133 -0.54629709  0.10262954  0.43893794 -0.15378708\n",
      "  0.9615284   0.36965948] 0.6565656565656566\n"
     ]
    },
    {
     "name": "stderr",
     "output_type": "stream",
     "text": [
      "\r",
      "  7%|█████▎                                                                          | 2/30 [22:09<5:10:33, 665.49s/it]"
     ]
    },
    {
     "name": "stdout",
     "output_type": "stream",
     "text": [
      "[-0.0381362  -0.21576496 -0.31364397  0.45809941 -0.12285551 -0.88064421\n",
      " -0.20391149  0.47599081] 0.8282828282828283\n"
     ]
    },
    {
     "name": "stderr",
     "output_type": "stream",
     "text": [
      "\r",
      " 10%|████████                                                                        | 3/30 [33:25<5:01:40, 670.38s/it]"
     ]
    },
    {
     "name": "stdout",
     "output_type": "stream",
     "text": [
      "[-0.63501654 -0.64909649  0.06310275  0.06365517  0.26880192  0.69886359\n",
      "  0.44891065  0.22204702] 0.7575757575757576\n"
     ]
    },
    {
     "name": "stderr",
     "output_type": "stream",
     "text": [
      " 10%|████████                                                                        | 3/30 [41:46<6:16:01, 835.61s/it]\n"
     ]
    },
    {
     "ename": "KeyboardInterrupt",
     "evalue": "",
     "output_type": "error",
     "traceback": [
      "\u001b[1;31m---------------------------------------------------------------------------\u001b[0m",
      "\u001b[1;31mKeyboardInterrupt\u001b[0m                         Traceback (most recent call last)",
      "\u001b[1;32m<ipython-input-130-4357cbc29c04>\u001b[0m in \u001b[0;36m<module>\u001b[1;34m\u001b[0m\n\u001b[0;32m      7\u001b[0m         \u001b[0mstarting_params\u001b[0m \u001b[1;33m=\u001b[0m \u001b[0mnp\u001b[0m\u001b[1;33m.\u001b[0m\u001b[0mrandom\u001b[0m\u001b[1;33m.\u001b[0m\u001b[0muniform\u001b[0m\u001b[1;33m(\u001b[0m\u001b[1;33m-\u001b[0m\u001b[1;36m1\u001b[0m\u001b[1;33m,\u001b[0m \u001b[1;36m1\u001b[0m\u001b[1;33m,\u001b[0m \u001b[0mlen\u001b[0m\u001b[1;33m(\u001b[0m\u001b[0mansatz\u001b[0m\u001b[1;33m.\u001b[0m\u001b[0mparameters\u001b[0m\u001b[1;33m)\u001b[0m\u001b[1;33m)\u001b[0m\u001b[1;33m\u001b[0m\u001b[1;33m\u001b[0m\u001b[0m\n\u001b[0;32m      8\u001b[0m         \u001b[0mvqc_sv\u001b[0m\u001b[1;33m.\u001b[0m\u001b[0m_fit_result\u001b[0m \u001b[1;33m=\u001b[0m \u001b[1;33m[\u001b[0m\u001b[0mstarting_params\u001b[0m \u001b[1;33m]\u001b[0m\u001b[1;33m\u001b[0m\u001b[1;33m\u001b[0m\u001b[0m\n\u001b[1;32m----> 9\u001b[1;33m         \u001b[0mvqc_sv\u001b[0m\u001b[1;33m.\u001b[0m\u001b[0mfit\u001b[0m\u001b[1;33m(\u001b[0m\u001b[0mtraining_features\u001b[0m\u001b[1;33m,\u001b[0m \u001b[0mtraining_labels\u001b[0m\u001b[1;33m)\u001b[0m\u001b[1;33m\u001b[0m\u001b[1;33m\u001b[0m\u001b[0m\n\u001b[0m\u001b[0;32m     10\u001b[0m         \u001b[0mscore_sv\u001b[0m \u001b[1;33m+=\u001b[0m \u001b[1;33m[\u001b[0m \u001b[0mvqc_sv\u001b[0m\u001b[1;33m.\u001b[0m\u001b[0mscore\u001b[0m\u001b[1;33m(\u001b[0m\u001b[0mtraining_features\u001b[0m\u001b[1;33m,\u001b[0m \u001b[0mtraining_labels\u001b[0m\u001b[1;33m)\u001b[0m \u001b[1;33m]\u001b[0m\u001b[1;33m\u001b[0m\u001b[1;33m\u001b[0m\u001b[0m\n\u001b[0;32m     11\u001b[0m         \u001b[0mprint\u001b[0m\u001b[1;33m(\u001b[0m\u001b[0mstarting_params\u001b[0m\u001b[1;33m,\u001b[0m \u001b[0mscore_sv\u001b[0m\u001b[1;33m[\u001b[0m\u001b[0mi\u001b[0m\u001b[1;33m]\u001b[0m\u001b[1;33m)\u001b[0m\u001b[1;33m\u001b[0m\u001b[1;33m\u001b[0m\u001b[0m\n",
      "\u001b[1;32m~\\anaconda3\\envs\\quantum\\lib\\site-packages\\qiskit_machine_learning\\algorithms\\classifiers\\vqc.py\u001b[0m in \u001b[0;36mfit\u001b[1;34m(self, X, y)\u001b[0m\n\u001b[0;32m    146\u001b[0m         cast(CircuitQNN, self._neural_network).set_interpret(self._get_interpret(num_classes),\n\u001b[0;32m    147\u001b[0m                                                              num_classes)\n\u001b[1;32m--> 148\u001b[1;33m         \u001b[1;32mreturn\u001b[0m \u001b[0msuper\u001b[0m\u001b[1;33m(\u001b[0m\u001b[1;33m)\u001b[0m\u001b[1;33m.\u001b[0m\u001b[0mfit\u001b[0m\u001b[1;33m(\u001b[0m\u001b[0mX\u001b[0m\u001b[1;33m,\u001b[0m \u001b[0my\u001b[0m\u001b[1;33m)\u001b[0m\u001b[1;33m\u001b[0m\u001b[1;33m\u001b[0m\u001b[0m\n\u001b[0m\u001b[0;32m    149\u001b[0m \u001b[1;33m\u001b[0m\u001b[0m\n\u001b[0;32m    150\u001b[0m     \u001b[1;32mdef\u001b[0m \u001b[0m_get_interpret\u001b[0m\u001b[1;33m(\u001b[0m\u001b[0mself\u001b[0m\u001b[1;33m,\u001b[0m \u001b[0mnum_classes\u001b[0m\u001b[1;33m)\u001b[0m\u001b[1;33m:\u001b[0m\u001b[1;33m\u001b[0m\u001b[1;33m\u001b[0m\u001b[0m\n",
      "\u001b[1;32m~\\anaconda3\\envs\\quantum\\lib\\site-packages\\qiskit_machine_learning\\algorithms\\classifiers\\neural_network_classifier.py\u001b[0m in \u001b[0;36mfit\u001b[1;34m(self, X, y)\u001b[0m\n\u001b[0;32m    193\u001b[0m \u001b[1;33m\u001b[0m\u001b[0m\n\u001b[0;32m    194\u001b[0m         self._fit_result = self._optimizer.optimize(self._neural_network.num_weights, objective,\n\u001b[1;32m--> 195\u001b[1;33m                                                     objective_grad, initial_point=initial_point)\n\u001b[0m\u001b[0;32m    196\u001b[0m         \u001b[1;32mreturn\u001b[0m \u001b[0mself\u001b[0m\u001b[1;33m\u001b[0m\u001b[1;33m\u001b[0m\u001b[0m\n\u001b[0;32m    197\u001b[0m \u001b[1;33m\u001b[0m\u001b[0m\n",
      "\u001b[1;32m~\\anaconda3\\envs\\quantum\\lib\\site-packages\\qiskit\\algorithms\\optimizers\\cobyla.py\u001b[0m in \u001b[0;36moptimize\u001b[1;34m(self, num_vars, objective_function, gradient_function, variable_bounds, initial_point)\u001b[0m\n\u001b[0;32m     67\u001b[0m \u001b[1;33m\u001b[0m\u001b[0m\n\u001b[0;32m     68\u001b[0m         res = minimize(objective_function, initial_point, tol=self._tol,\n\u001b[1;32m---> 69\u001b[1;33m                        method=\"COBYLA\", options=self._options)\n\u001b[0m\u001b[0;32m     70\u001b[0m         \u001b[1;32mreturn\u001b[0m \u001b[0mres\u001b[0m\u001b[1;33m.\u001b[0m\u001b[0mx\u001b[0m\u001b[1;33m,\u001b[0m \u001b[0mres\u001b[0m\u001b[1;33m.\u001b[0m\u001b[0mfun\u001b[0m\u001b[1;33m,\u001b[0m \u001b[0mres\u001b[0m\u001b[1;33m.\u001b[0m\u001b[0mnfev\u001b[0m\u001b[1;33m\u001b[0m\u001b[1;33m\u001b[0m\u001b[0m\n",
      "\u001b[1;32m~\\anaconda3\\envs\\quantum\\lib\\site-packages\\scipy\\optimize\\_minimize.py\u001b[0m in \u001b[0;36mminimize\u001b[1;34m(fun, x0, args, method, jac, hess, hessp, bounds, constraints, tol, callback, options)\u001b[0m\n\u001b[0;32m    621\u001b[0m                              **options)\n\u001b[0;32m    622\u001b[0m     \u001b[1;32melif\u001b[0m \u001b[0mmeth\u001b[0m \u001b[1;33m==\u001b[0m \u001b[1;34m'cobyla'\u001b[0m\u001b[1;33m:\u001b[0m\u001b[1;33m\u001b[0m\u001b[1;33m\u001b[0m\u001b[0m\n\u001b[1;32m--> 623\u001b[1;33m         \u001b[1;32mreturn\u001b[0m \u001b[0m_minimize_cobyla\u001b[0m\u001b[1;33m(\u001b[0m\u001b[0mfun\u001b[0m\u001b[1;33m,\u001b[0m \u001b[0mx0\u001b[0m\u001b[1;33m,\u001b[0m \u001b[0margs\u001b[0m\u001b[1;33m,\u001b[0m \u001b[0mconstraints\u001b[0m\u001b[1;33m,\u001b[0m \u001b[1;33m**\u001b[0m\u001b[0moptions\u001b[0m\u001b[1;33m)\u001b[0m\u001b[1;33m\u001b[0m\u001b[1;33m\u001b[0m\u001b[0m\n\u001b[0m\u001b[0;32m    624\u001b[0m     \u001b[1;32melif\u001b[0m \u001b[0mmeth\u001b[0m \u001b[1;33m==\u001b[0m \u001b[1;34m'slsqp'\u001b[0m\u001b[1;33m:\u001b[0m\u001b[1;33m\u001b[0m\u001b[1;33m\u001b[0m\u001b[0m\n\u001b[0;32m    625\u001b[0m         return _minimize_slsqp(fun, x0, args, jac, bounds,\n",
      "\u001b[1;32m~\\anaconda3\\envs\\quantum\\lib\\site-packages\\scipy\\optimize\\cobyla.py\u001b[0m in \u001b[0;36mwrapper\u001b[1;34m(*args, **kwargs)\u001b[0m\n\u001b[0;32m     32\u001b[0m     \u001b[1;32mdef\u001b[0m \u001b[0mwrapper\u001b[0m\u001b[1;33m(\u001b[0m\u001b[1;33m*\u001b[0m\u001b[0margs\u001b[0m\u001b[1;33m,\u001b[0m \u001b[1;33m**\u001b[0m\u001b[0mkwargs\u001b[0m\u001b[1;33m)\u001b[0m\u001b[1;33m:\u001b[0m\u001b[1;33m\u001b[0m\u001b[1;33m\u001b[0m\u001b[0m\n\u001b[0;32m     33\u001b[0m         \u001b[1;32mwith\u001b[0m \u001b[0m_module_lock\u001b[0m\u001b[1;33m:\u001b[0m\u001b[1;33m\u001b[0m\u001b[1;33m\u001b[0m\u001b[0m\n\u001b[1;32m---> 34\u001b[1;33m             \u001b[1;32mreturn\u001b[0m \u001b[0mfunc\u001b[0m\u001b[1;33m(\u001b[0m\u001b[1;33m*\u001b[0m\u001b[0margs\u001b[0m\u001b[1;33m,\u001b[0m \u001b[1;33m**\u001b[0m\u001b[0mkwargs\u001b[0m\u001b[1;33m)\u001b[0m\u001b[1;33m\u001b[0m\u001b[1;33m\u001b[0m\u001b[0m\n\u001b[0m\u001b[0;32m     35\u001b[0m     \u001b[1;32mreturn\u001b[0m \u001b[0mwrapper\u001b[0m\u001b[1;33m\u001b[0m\u001b[1;33m\u001b[0m\u001b[0m\n\u001b[0;32m     36\u001b[0m \u001b[1;33m\u001b[0m\u001b[0m\n",
      "\u001b[1;32m~\\anaconda3\\envs\\quantum\\lib\\site-packages\\scipy\\optimize\\cobyla.py\u001b[0m in \u001b[0;36m_minimize_cobyla\u001b[1;34m(fun, x0, args, constraints, rhobeg, tol, maxiter, disp, catol, **unknown_options)\u001b[0m\n\u001b[0;32m    260\u001b[0m     xopt, info = _cobyla.minimize(calcfc, m=m, x=np.copy(x0), rhobeg=rhobeg,\n\u001b[0;32m    261\u001b[0m                                   \u001b[0mrhoend\u001b[0m\u001b[1;33m=\u001b[0m\u001b[0mrhoend\u001b[0m\u001b[1;33m,\u001b[0m \u001b[0miprint\u001b[0m\u001b[1;33m=\u001b[0m\u001b[0miprint\u001b[0m\u001b[1;33m,\u001b[0m \u001b[0mmaxfun\u001b[0m\u001b[1;33m=\u001b[0m\u001b[0mmaxfun\u001b[0m\u001b[1;33m,\u001b[0m\u001b[1;33m\u001b[0m\u001b[1;33m\u001b[0m\u001b[0m\n\u001b[1;32m--> 262\u001b[1;33m                                   dinfo=info)\n\u001b[0m\u001b[0;32m    263\u001b[0m \u001b[1;33m\u001b[0m\u001b[0m\n\u001b[0;32m    264\u001b[0m     \u001b[1;32mif\u001b[0m \u001b[0minfo\u001b[0m\u001b[1;33m[\u001b[0m\u001b[1;36m3\u001b[0m\u001b[1;33m]\u001b[0m \u001b[1;33m>\u001b[0m \u001b[0mcatol\u001b[0m\u001b[1;33m:\u001b[0m\u001b[1;33m\u001b[0m\u001b[1;33m\u001b[0m\u001b[0m\n",
      "\u001b[1;32m~\\anaconda3\\envs\\quantum\\lib\\site-packages\\scipy\\optimize\\cobyla.py\u001b[0m in \u001b[0;36mcalcfc\u001b[1;34m(x, con)\u001b[0m\n\u001b[0;32m    250\u001b[0m \u001b[1;33m\u001b[0m\u001b[0m\n\u001b[0;32m    251\u001b[0m     \u001b[1;32mdef\u001b[0m \u001b[0mcalcfc\u001b[0m\u001b[1;33m(\u001b[0m\u001b[0mx\u001b[0m\u001b[1;33m,\u001b[0m \u001b[0mcon\u001b[0m\u001b[1;33m)\u001b[0m\u001b[1;33m:\u001b[0m\u001b[1;33m\u001b[0m\u001b[1;33m\u001b[0m\u001b[0m\n\u001b[1;32m--> 252\u001b[1;33m         \u001b[0mf\u001b[0m \u001b[1;33m=\u001b[0m \u001b[0mfun\u001b[0m\u001b[1;33m(\u001b[0m\u001b[0mx\u001b[0m\u001b[1;33m,\u001b[0m \u001b[1;33m*\u001b[0m\u001b[0margs\u001b[0m\u001b[1;33m)\u001b[0m\u001b[1;33m\u001b[0m\u001b[1;33m\u001b[0m\u001b[0m\n\u001b[0m\u001b[0;32m    253\u001b[0m         \u001b[0mi\u001b[0m \u001b[1;33m=\u001b[0m \u001b[1;36m0\u001b[0m\u001b[1;33m\u001b[0m\u001b[1;33m\u001b[0m\u001b[0m\n\u001b[0;32m    254\u001b[0m         \u001b[1;32mfor\u001b[0m \u001b[0msize\u001b[0m\u001b[1;33m,\u001b[0m \u001b[0mc\u001b[0m \u001b[1;32min\u001b[0m \u001b[0mizip\u001b[0m\u001b[1;33m(\u001b[0m\u001b[0mcons_lengths\u001b[0m\u001b[1;33m,\u001b[0m \u001b[0mconstraints\u001b[0m\u001b[1;33m)\u001b[0m\u001b[1;33m:\u001b[0m\u001b[1;33m\u001b[0m\u001b[1;33m\u001b[0m\u001b[0m\n",
      "\u001b[1;32m~\\anaconda3\\envs\\quantum\\lib\\site-packages\\qiskit_machine_learning\\algorithms\\classifiers\\neural_network_classifier.py\u001b[0m in \u001b[0;36mobjective\u001b[1;34m(w)\u001b[0m\n\u001b[0;32m    152\u001b[0m                 \u001b[1;32mdef\u001b[0m \u001b[0mobjective\u001b[0m\u001b[1;33m(\u001b[0m\u001b[0mw\u001b[0m\u001b[1;33m)\u001b[0m\u001b[1;33m:\u001b[0m\u001b[1;33m\u001b[0m\u001b[1;33m\u001b[0m\u001b[0m\n\u001b[0;32m    153\u001b[0m                     \u001b[0mval\u001b[0m \u001b[1;33m=\u001b[0m \u001b[1;36m0.0\u001b[0m\u001b[1;33m\u001b[0m\u001b[1;33m\u001b[0m\u001b[0m\n\u001b[1;32m--> 154\u001b[1;33m                     \u001b[0mprobs\u001b[0m \u001b[1;33m=\u001b[0m \u001b[0mself\u001b[0m\u001b[1;33m.\u001b[0m\u001b[0m_neural_network\u001b[0m\u001b[1;33m.\u001b[0m\u001b[0mforward\u001b[0m\u001b[1;33m(\u001b[0m\u001b[0mX\u001b[0m\u001b[1;33m,\u001b[0m \u001b[0mw\u001b[0m\u001b[1;33m)\u001b[0m\u001b[1;33m\u001b[0m\u001b[1;33m\u001b[0m\u001b[0m\n\u001b[0m\u001b[0;32m    155\u001b[0m                     \u001b[1;32mfor\u001b[0m \u001b[0mi\u001b[0m \u001b[1;32min\u001b[0m \u001b[0mrange\u001b[0m\u001b[1;33m(\u001b[0m\u001b[0mlen\u001b[0m\u001b[1;33m(\u001b[0m\u001b[0mX\u001b[0m\u001b[1;33m)\u001b[0m\u001b[1;33m)\u001b[0m\u001b[1;33m:\u001b[0m\u001b[1;33m\u001b[0m\u001b[1;33m\u001b[0m\u001b[0m\n\u001b[0;32m    156\u001b[0m                         \u001b[0mval\u001b[0m \u001b[1;33m+=\u001b[0m \u001b[0mself\u001b[0m\u001b[1;33m.\u001b[0m\u001b[0m_loss\u001b[0m\u001b[1;33m(\u001b[0m\u001b[0mprobs\u001b[0m\u001b[1;33m[\u001b[0m\u001b[0mi\u001b[0m\u001b[1;33m]\u001b[0m\u001b[1;33m,\u001b[0m \u001b[0my\u001b[0m\u001b[1;33m[\u001b[0m\u001b[0mi\u001b[0m\u001b[1;33m]\u001b[0m\u001b[1;33m)\u001b[0m\u001b[1;33m\u001b[0m\u001b[1;33m\u001b[0m\u001b[0m\n",
      "\u001b[1;32m~\\anaconda3\\envs\\quantum\\lib\\site-packages\\qiskit_machine_learning\\neural_networks\\neural_network.py\u001b[0m in \u001b[0;36mforward\u001b[1;34m(self, input_data, weights)\u001b[0m\n\u001b[0;32m    145\u001b[0m         \u001b[0minput_\u001b[0m\u001b[1;33m,\u001b[0m \u001b[0mshape\u001b[0m \u001b[1;33m=\u001b[0m \u001b[0mself\u001b[0m\u001b[1;33m.\u001b[0m\u001b[0m_validate_input\u001b[0m\u001b[1;33m(\u001b[0m\u001b[0minput_data\u001b[0m\u001b[1;33m)\u001b[0m\u001b[1;33m\u001b[0m\u001b[1;33m\u001b[0m\u001b[0m\n\u001b[0;32m    146\u001b[0m         \u001b[0mweights_\u001b[0m \u001b[1;33m=\u001b[0m \u001b[0mself\u001b[0m\u001b[1;33m.\u001b[0m\u001b[0m_validate_weights\u001b[0m\u001b[1;33m(\u001b[0m\u001b[0mweights\u001b[0m\u001b[1;33m)\u001b[0m\u001b[1;33m\u001b[0m\u001b[1;33m\u001b[0m\u001b[0m\n\u001b[1;32m--> 147\u001b[1;33m         \u001b[0moutput_data\u001b[0m \u001b[1;33m=\u001b[0m \u001b[0mself\u001b[0m\u001b[1;33m.\u001b[0m\u001b[0m_forward\u001b[0m\u001b[1;33m(\u001b[0m\u001b[0minput_\u001b[0m\u001b[1;33m,\u001b[0m \u001b[0mweights_\u001b[0m\u001b[1;33m)\u001b[0m\u001b[1;33m\u001b[0m\u001b[1;33m\u001b[0m\u001b[0m\n\u001b[0m\u001b[0;32m    148\u001b[0m         \u001b[1;32mreturn\u001b[0m \u001b[0mself\u001b[0m\u001b[1;33m.\u001b[0m\u001b[0m_validate_forward_output\u001b[0m\u001b[1;33m(\u001b[0m\u001b[0moutput_data\u001b[0m\u001b[1;33m,\u001b[0m \u001b[0mshape\u001b[0m\u001b[1;33m)\u001b[0m\u001b[1;33m\u001b[0m\u001b[1;33m\u001b[0m\u001b[0m\n\u001b[0;32m    149\u001b[0m \u001b[1;33m\u001b[0m\u001b[0m\n",
      "\u001b[1;32m~\\anaconda3\\envs\\quantum\\lib\\site-packages\\qiskit_machine_learning\\neural_networks\\sampling_neural_network.py\u001b[0m in \u001b[0;36m_forward\u001b[1;34m(self, input_data, weights)\u001b[0m\n\u001b[0;32m     64\u001b[0m             \u001b[1;32mreturn\u001b[0m \u001b[0mself\u001b[0m\u001b[1;33m.\u001b[0m\u001b[0m_sample\u001b[0m\u001b[1;33m(\u001b[0m\u001b[0minput_data\u001b[0m\u001b[1;33m,\u001b[0m \u001b[0mweights\u001b[0m\u001b[1;33m)\u001b[0m\u001b[1;33m\u001b[0m\u001b[1;33m\u001b[0m\u001b[0m\n\u001b[0;32m     65\u001b[0m         \u001b[1;32melse\u001b[0m\u001b[1;33m:\u001b[0m\u001b[1;33m\u001b[0m\u001b[1;33m\u001b[0m\u001b[0m\n\u001b[1;32m---> 66\u001b[1;33m             \u001b[1;32mreturn\u001b[0m \u001b[0mself\u001b[0m\u001b[1;33m.\u001b[0m\u001b[0m_probabilities\u001b[0m\u001b[1;33m(\u001b[0m\u001b[0minput_data\u001b[0m\u001b[1;33m,\u001b[0m \u001b[0mweights\u001b[0m\u001b[1;33m)\u001b[0m\u001b[1;33m\u001b[0m\u001b[1;33m\u001b[0m\u001b[0m\n\u001b[0m\u001b[0;32m     67\u001b[0m \u001b[1;33m\u001b[0m\u001b[0m\n\u001b[0;32m     68\u001b[0m     def _backward(self, input_data: Optional[np.ndarray], weights: Optional[np.ndarray]\n",
      "\u001b[1;32m~\\anaconda3\\envs\\quantum\\lib\\site-packages\\qiskit_machine_learning\\neural_networks\\circuit_qnn.py\u001b[0m in \u001b[0;36m_probabilities\u001b[1;34m(self, input_data, weights)\u001b[0m\n\u001b[0;32m    219\u001b[0m             \u001b[0mcircuits\u001b[0m\u001b[1;33m.\u001b[0m\u001b[0mappend\u001b[0m\u001b[1;33m(\u001b[0m\u001b[0mself\u001b[0m\u001b[1;33m.\u001b[0m\u001b[0m_circuit\u001b[0m\u001b[1;33m.\u001b[0m\u001b[0mbind_parameters\u001b[0m\u001b[1;33m(\u001b[0m\u001b[0mparam_values\u001b[0m\u001b[1;33m)\u001b[0m\u001b[1;33m)\u001b[0m\u001b[1;33m\u001b[0m\u001b[1;33m\u001b[0m\u001b[0m\n\u001b[0;32m    220\u001b[0m \u001b[1;33m\u001b[0m\u001b[0m\n\u001b[1;32m--> 221\u001b[1;33m         \u001b[0mresult\u001b[0m \u001b[1;33m=\u001b[0m \u001b[0mself\u001b[0m\u001b[1;33m.\u001b[0m\u001b[0mquantum_instance\u001b[0m\u001b[1;33m.\u001b[0m\u001b[0mexecute\u001b[0m\u001b[1;33m(\u001b[0m\u001b[0mcircuits\u001b[0m\u001b[1;33m)\u001b[0m\u001b[1;33m\u001b[0m\u001b[1;33m\u001b[0m\u001b[0m\n\u001b[0m\u001b[0;32m    222\u001b[0m         \u001b[1;31m# initialize probabilities\u001b[0m\u001b[1;33m\u001b[0m\u001b[1;33m\u001b[0m\u001b[1;33m\u001b[0m\u001b[0m\n\u001b[0;32m    223\u001b[0m         \u001b[1;32mif\u001b[0m \u001b[0mself\u001b[0m\u001b[1;33m.\u001b[0m\u001b[0msparse\u001b[0m\u001b[1;33m:\u001b[0m\u001b[1;33m\u001b[0m\u001b[1;33m\u001b[0m\u001b[0m\n",
      "\u001b[1;32m~\\anaconda3\\envs\\quantum\\lib\\site-packages\\qiskit\\utils\\quantum_instance.py\u001b[0m in \u001b[0;36mexecute\u001b[1;34m(self, circuits, had_transpiled)\u001b[0m\n\u001b[0;32m    303\u001b[0m         \u001b[1;31m# maybe compile\u001b[0m\u001b[1;33m\u001b[0m\u001b[1;33m\u001b[0m\u001b[1;33m\u001b[0m\u001b[0m\n\u001b[0;32m    304\u001b[0m         \u001b[1;32mif\u001b[0m \u001b[1;32mnot\u001b[0m \u001b[0mhad_transpiled\u001b[0m\u001b[1;33m:\u001b[0m\u001b[1;33m\u001b[0m\u001b[1;33m\u001b[0m\u001b[0m\n\u001b[1;32m--> 305\u001b[1;33m             \u001b[0mcircuits\u001b[0m \u001b[1;33m=\u001b[0m \u001b[0mself\u001b[0m\u001b[1;33m.\u001b[0m\u001b[0mtranspile\u001b[0m\u001b[1;33m(\u001b[0m\u001b[0mcircuits\u001b[0m\u001b[1;33m)\u001b[0m\u001b[1;33m\u001b[0m\u001b[1;33m\u001b[0m\u001b[0m\n\u001b[0m\u001b[0;32m    306\u001b[0m \u001b[1;33m\u001b[0m\u001b[0m\n\u001b[0;32m    307\u001b[0m         \u001b[1;31m# assemble\u001b[0m\u001b[1;33m\u001b[0m\u001b[1;33m\u001b[0m\u001b[1;33m\u001b[0m\u001b[0m\n",
      "\u001b[1;32m~\\anaconda3\\envs\\quantum\\lib\\site-packages\\qiskit\\utils\\quantum_instance.py\u001b[0m in \u001b[0;36mtranspile\u001b[1;34m(self, circuits)\u001b[0m\n\u001b[0;32m    259\u001b[0m                                                      \u001b[0mself\u001b[0m\u001b[1;33m.\u001b[0m\u001b[0m_backend\u001b[0m\u001b[1;33m,\u001b[0m\u001b[1;33m\u001b[0m\u001b[1;33m\u001b[0m\u001b[0m\n\u001b[0;32m    260\u001b[0m                                                      \u001b[1;33m**\u001b[0m\u001b[0mself\u001b[0m\u001b[1;33m.\u001b[0m\u001b[0m_backend_config\u001b[0m\u001b[1;33m,\u001b[0m\u001b[1;33m\u001b[0m\u001b[1;33m\u001b[0m\u001b[0m\n\u001b[1;32m--> 261\u001b[1;33m                                                      **self._compile_config)\n\u001b[0m\u001b[0;32m    262\u001b[0m         \u001b[1;32mif\u001b[0m \u001b[1;32mnot\u001b[0m \u001b[0misinstance\u001b[0m\u001b[1;33m(\u001b[0m\u001b[0mtranspiled_circuits\u001b[0m\u001b[1;33m,\u001b[0m \u001b[0mlist\u001b[0m\u001b[1;33m)\u001b[0m\u001b[1;33m:\u001b[0m\u001b[1;33m\u001b[0m\u001b[1;33m\u001b[0m\u001b[0m\n\u001b[0;32m    263\u001b[0m             \u001b[0mtranspiled_circuits\u001b[0m \u001b[1;33m=\u001b[0m \u001b[1;33m[\u001b[0m\u001b[0mtranspiled_circuits\u001b[0m\u001b[1;33m]\u001b[0m\u001b[1;33m\u001b[0m\u001b[1;33m\u001b[0m\u001b[0m\n",
      "\u001b[1;32m~\\anaconda3\\envs\\quantum\\lib\\site-packages\\qiskit\\compiler\\transpiler.py\u001b[0m in \u001b[0;36mtranspile\u001b[1;34m(circuits, backend, basis_gates, coupling_map, backend_properties, initial_layout, layout_method, routing_method, translation_method, scheduling_method, instruction_durations, dt, approximation_degree, seed_transpiler, optimization_level, pass_manager, callback, output_name)\u001b[0m\n\u001b[0;32m    240\u001b[0m                                            optimization_level, callback, output_name)\n\u001b[0;32m    241\u001b[0m \u001b[1;33m\u001b[0m\u001b[0m\n\u001b[1;32m--> 242\u001b[1;33m     \u001b[0m_check_circuits_coupling_map\u001b[0m\u001b[1;33m(\u001b[0m\u001b[0mcircuits\u001b[0m\u001b[1;33m,\u001b[0m \u001b[0mtranspile_args\u001b[0m\u001b[1;33m,\u001b[0m \u001b[0mbackend\u001b[0m\u001b[1;33m)\u001b[0m\u001b[1;33m\u001b[0m\u001b[1;33m\u001b[0m\u001b[0m\n\u001b[0m\u001b[0;32m    243\u001b[0m \u001b[1;33m\u001b[0m\u001b[0m\n\u001b[0;32m    244\u001b[0m     \u001b[1;31m# Transpile circuits in parallel\u001b[0m\u001b[1;33m\u001b[0m\u001b[1;33m\u001b[0m\u001b[1;33m\u001b[0m\u001b[0m\n",
      "\u001b[1;32m~\\anaconda3\\envs\\quantum\\lib\\site-packages\\qiskit\\compiler\\transpiler.py\u001b[0m in \u001b[0;36m_check_circuits_coupling_map\u001b[1;34m(circuits, transpile_args, backend)\u001b[0m\n\u001b[0;32m    273\u001b[0m \u001b[1;33m\u001b[0m\u001b[0m\n\u001b[0;32m    274\u001b[0m         \u001b[1;31m# If coupling_map is None, the limit might be in the backend (like in 1Q devices)\u001b[0m\u001b[1;33m\u001b[0m\u001b[1;33m\u001b[0m\u001b[1;33m\u001b[0m\u001b[0m\n\u001b[1;32m--> 275\u001b[1;33m         \u001b[1;32melif\u001b[0m \u001b[0mbackend\u001b[0m \u001b[1;32mis\u001b[0m \u001b[1;32mnot\u001b[0m \u001b[1;32mNone\u001b[0m \u001b[1;32mand\u001b[0m \u001b[1;32mnot\u001b[0m \u001b[0mbackend\u001b[0m\u001b[1;33m.\u001b[0m\u001b[0mconfiguration\u001b[0m\u001b[1;33m(\u001b[0m\u001b[1;33m)\u001b[0m\u001b[1;33m.\u001b[0m\u001b[0msimulator\u001b[0m\u001b[1;33m:\u001b[0m\u001b[1;33m\u001b[0m\u001b[1;33m\u001b[0m\u001b[0m\n\u001b[0m\u001b[0;32m    276\u001b[0m             \u001b[0mmax_qubits\u001b[0m \u001b[1;33m=\u001b[0m \u001b[0mbackend\u001b[0m\u001b[1;33m.\u001b[0m\u001b[0mconfiguration\u001b[0m\u001b[1;33m(\u001b[0m\u001b[1;33m)\u001b[0m\u001b[1;33m.\u001b[0m\u001b[0mn_qubits\u001b[0m\u001b[1;33m\u001b[0m\u001b[1;33m\u001b[0m\u001b[0m\n\u001b[0;32m    277\u001b[0m \u001b[1;33m\u001b[0m\u001b[0m\n",
      "\u001b[1;32m~\\anaconda3\\envs\\quantum\\lib\\site-packages\\qiskit\\providers\\aer\\backends\\qasm_simulator.py\u001b[0m in \u001b[0;36mconfiguration\u001b[1;34m(self)\u001b[0m\n\u001b[0;32m    448\u001b[0m         \u001b[1;31m# Update basis gates based on custom options, config, method,\u001b[0m\u001b[1;33m\u001b[0m\u001b[1;33m\u001b[0m\u001b[1;33m\u001b[0m\u001b[0m\n\u001b[0;32m    449\u001b[0m         \u001b[1;31m# and noise model\u001b[0m\u001b[1;33m\u001b[0m\u001b[1;33m\u001b[0m\u001b[1;33m\u001b[0m\u001b[0m\n\u001b[1;32m--> 450\u001b[1;33m         \u001b[0mbasis_gates\u001b[0m \u001b[1;33m=\u001b[0m \u001b[0mself\u001b[0m\u001b[1;33m.\u001b[0m\u001b[0m_basis_gates\u001b[0m\u001b[1;33m(\u001b[0m\u001b[1;33m)\u001b[0m\u001b[1;33m\u001b[0m\u001b[1;33m\u001b[0m\u001b[0m\n\u001b[0m\u001b[0;32m    451\u001b[0m         \u001b[0mcustom_inst\u001b[0m \u001b[1;33m=\u001b[0m \u001b[0mself\u001b[0m\u001b[1;33m.\u001b[0m\u001b[0m_custom_instructions\u001b[0m\u001b[1;33m(\u001b[0m\u001b[1;33m)\u001b[0m\u001b[1;33m\u001b[0m\u001b[1;33m\u001b[0m\u001b[0m\n\u001b[0;32m    452\u001b[0m         \u001b[0mconfig\u001b[0m \u001b[1;33m=\u001b[0m \u001b[0msuper\u001b[0m\u001b[1;33m(\u001b[0m\u001b[1;33m)\u001b[0m\u001b[1;33m.\u001b[0m\u001b[0mconfiguration\u001b[0m\u001b[1;33m(\u001b[0m\u001b[1;33m)\u001b[0m\u001b[1;33m\u001b[0m\u001b[1;33m\u001b[0m\u001b[0m\n",
      "\u001b[1;32m~\\anaconda3\\envs\\quantum\\lib\\site-packages\\qiskit\\providers\\aer\\backends\\qasm_simulator.py\u001b[0m in \u001b[0;36m_basis_gates\u001b[1;34m(self)\u001b[0m\n\u001b[0;32m    528\u001b[0m             \u001b[0mmethod_gates\u001b[0m \u001b[1;33m=\u001b[0m \u001b[1;32mNone\u001b[0m\u001b[1;33m\u001b[0m\u001b[1;33m\u001b[0m\u001b[0m\n\u001b[0;32m    529\u001b[0m \u001b[1;33m\u001b[0m\u001b[0m\n\u001b[1;32m--> 530\u001b[1;33m         \u001b[1;32mif\u001b[0m \u001b[1;32mnot\u001b[0m \u001b[0mbasis_gates\u001b[0m\u001b[1;33m:\u001b[0m\u001b[1;33m\u001b[0m\u001b[1;33m\u001b[0m\u001b[0m\n\u001b[0m\u001b[0;32m    531\u001b[0m             logger.warning(\n\u001b[0;32m    532\u001b[0m                 \u001b[1;34m\"The intersection of configuration basis gates (%s), \"\u001b[0m\u001b[1;33m\u001b[0m\u001b[1;33m\u001b[0m\u001b[0m\n",
      "\u001b[1;31mKeyboardInterrupt\u001b[0m: "
     ]
    }
   ],
   "source": [
    "# Statistics for the STATEVECT\n",
    "run = True\n",
    "if run:\n",
    "    np.random.seed(123)\n",
    "    score_sv = []\n",
    "    for i in tqdm(range(30)):\n",
    "        starting_params = np.random.uniform(-1, 1, len(ansatz.parameters))\n",
    "        vqc_sv._fit_result = [starting_params ]\n",
    "        vqc_sv.fit(training_features, training_labels)\n",
    "        score_sv += [ vqc_sv.score(training_features, training_labels) ]\n",
    "        print(starting_params, score_sv[i])"
   ]
  },
  {
   "cell_type": "code",
   "execution_count": 11,
   "id": "4524fe0a",
   "metadata": {
    "scrolled": false
   },
   "outputs": [
    {
     "name": "stderr",
     "output_type": "stream",
     "text": [
      "  3%|██▋                                                                             | 1/30 [04:27<2:09:22, 267.68s/it]"
     ]
    },
    {
     "name": "stdout",
     "output_type": "stream",
     "text": [
      "[ 0.39293837 -0.42772133 -0.54629709  0.10262954  0.43893794 -0.15378708\n",
      "  0.9615284   0.36965948] 0.6565656565656566\n"
     ]
    },
    {
     "name": "stderr",
     "output_type": "stream",
     "text": [
      "\r",
      "  7%|█████▎                                                                          | 2/30 [08:31<1:58:27, 253.85s/it]"
     ]
    },
    {
     "name": "stdout",
     "output_type": "stream",
     "text": [
      "[-0.0381362  -0.21576496 -0.31364397  0.45809941 -0.12285551 -0.88064421\n",
      " -0.20391149  0.47599081] 0.8282828282828283\n"
     ]
    },
    {
     "name": "stderr",
     "output_type": "stream",
     "text": [
      "\r",
      " 10%|████████                                                                        | 3/30 [13:16<2:00:35, 267.98s/it]"
     ]
    },
    {
     "name": "stdout",
     "output_type": "stream",
     "text": [
      "[-0.63501654 -0.64909649  0.06310275  0.06365517  0.26880192  0.69886359\n",
      "  0.44891065  0.22204702] 0.7575757575757576\n"
     ]
    },
    {
     "name": "stderr",
     "output_type": "stream",
     "text": [
      "\r",
      " 13%|██████████▋                                                                     | 4/30 [19:00<2:09:04, 297.85s/it]"
     ]
    },
    {
     "name": "stdout",
     "output_type": "stream",
     "text": [
      "[ 0.44488677 -0.35408217 -0.27642269 -0.54347354 -0.41257191  0.26195225\n",
      " -0.81579012 -0.13259765] 0.8181818181818182\n"
     ]
    },
    {
     "name": "stderr",
     "output_type": "stream",
     "text": [
      "\r",
      " 17%|█████████████▎                                                                  | 5/30 [24:54<2:12:37, 318.29s/it]"
     ]
    },
    {
     "name": "stdout",
     "output_type": "stream",
     "text": [
      "[-0.13827447 -0.0126298  -0.14833942 -0.37547755 -0.14729739  0.78677833\n",
      "  0.88832004  0.00367335] 0.8181818181818182\n"
     ]
    },
    {
     "name": "stderr",
     "output_type": "stream",
     "text": [
      "\r",
      " 20%|████████████████                                                                | 6/30 [30:46<2:11:48, 329.54s/it]"
     ]
    },
    {
     "name": "stdout",
     "output_type": "stream",
     "text": [
      "[ 0.2479059  -0.76876321 -0.36542904 -0.17034758  0.73261832 -0.49908927\n",
      " -0.03393147  0.97111957] 0.8080808080808081\n"
     ]
    },
    {
     "name": "stderr",
     "output_type": "stream",
     "text": [
      "\r",
      " 23%|██████████████████▋                                                             | 7/30 [36:37<2:09:01, 336.61s/it]"
     ]
    },
    {
     "name": "stdout",
     "output_type": "stream",
     "text": [
      "[ 0.03897024  0.22578905 -0.75874267  0.6526816   0.20612026  0.09013601\n",
      " -0.31447233 -0.39175842] 0.797979797979798\n"
     ]
    },
    {
     "name": "stderr",
     "output_type": "stream",
     "text": [
      "\r",
      " 27%|█████████████████████▎                                                          | 8/30 [42:23<2:04:29, 339.51s/it]"
     ]
    },
    {
     "name": "stdout",
     "output_type": "stream",
     "text": [
      "[-0.16595558  0.36260153  0.75091368  0.02084467  0.33862757  0.17187311\n",
      "  0.249807    0.3493781 ] 0.7777777777777778\n"
     ]
    },
    {
     "name": "stderr",
     "output_type": "stream",
     "text": [
      "\r",
      " 30%|████████████████████████                                                        | 9/30 [48:23<2:01:06, 346.02s/it]"
     ]
    },
    {
     "name": "stdout",
     "output_type": "stream",
     "text": [
      "[ 0.68468488 -0.83361002  0.52736568 -0.51266725 -0.61155408  0.14491391\n",
      " -0.80857497  0.77065365] 0.8080808080808081\n"
     ]
    },
    {
     "name": "stderr",
     "output_type": "stream",
     "text": [
      "\r",
      " 33%|██████████████████████████▎                                                    | 10/30 [54:29<1:57:23, 352.16s/it]"
     ]
    },
    {
     "name": "stdout",
     "output_type": "stream",
     "text": [
      "[ 0.25449794  0.44683272 -0.96774159  0.18886376  0.11357038 -0.68208071\n",
      " -0.69385897  0.39105906] 0.8383838383838383\n"
     ]
    },
    {
     "name": "stderr",
     "output_type": "stream",
     "text": [
      "\r",
      " 37%|████████████████████████████▏                                                | 11/30 [1:00:41<1:53:27, 358.29s/it]"
     ]
    },
    {
     "name": "stdout",
     "output_type": "stream",
     "text": [
      "[-0.36246715  0.38394059  0.1087665  -0.22209885  0.85026498  0.68333999\n",
      " -0.28520487 -0.91281707] 0.8383838383838383\n"
     ]
    },
    {
     "name": "stderr",
     "output_type": "stream",
     "text": [
      "\r",
      " 40%|██████████████████████████████▊                                              | 12/30 [1:07:05<1:49:49, 366.10s/it]"
     ]
    },
    {
     "name": "stdout",
     "output_type": "stream",
     "text": [
      "[-0.39046385 -0.20362864  0.40991766  0.99071696 -0.28817027  0.52509563\n",
      "  0.18635383  0.3834036 ] 0.797979797979798\n"
     ]
    },
    {
     "name": "stderr",
     "output_type": "stream",
     "text": [
      "\r",
      " 43%|█████████████████████████████████▎                                           | 13/30 [1:13:35<1:45:47, 373.40s/it]"
     ]
    },
    {
     "name": "stdout",
     "output_type": "stream",
     "text": [
      "[-0.6977451  -0.20224741 -0.5182882  -0.31308797  0.02625631  0.3332491\n",
      " -0.78818303 -0.7382101 ] 0.6363636363636364\n"
     ]
    },
    {
     "name": "stderr",
     "output_type": "stream",
     "text": [
      "\r",
      " 47%|███████████████████████████████████▉                                         | 14/30 [1:20:09<1:41:12, 379.54s/it]"
     ]
    },
    {
     "name": "stdout",
     "output_type": "stream",
     "text": [
      "[-0.35603879  0.32312867  0.69301245  0.10651469  0.70890498 -0.23032438\n",
      " -0.36642421 -0.29147065] 0.696969696969697\n"
     ]
    },
    {
     "name": "stderr",
     "output_type": "stream",
     "text": [
      "\r",
      " 50%|██████████████████████████████████████▌                                      | 15/30 [1:26:54<1:36:50, 387.36s/it]"
     ]
    },
    {
     "name": "stdout",
     "output_type": "stream",
     "text": [
      "[-0.65783634  0.65822527 -0.32265831  0.10474015  0.15710294  0.04306612\n",
      " -0.99462387  0.97669084] 0.6262626262626263\n"
     ]
    },
    {
     "name": "stderr",
     "output_type": "stream",
     "text": [
      "\r",
      " 53%|█████████████████████████████████████████                                    | 16/30 [1:34:48<1:36:25, 413.26s/it]"
     ]
    },
    {
     "name": "stdout",
     "output_type": "stream",
     "text": [
      "[ 0.81068315 -0.58472828 -0.41502117  0.04002031  0.80382275  0.96726177\n",
      " -0.48491587  0.12871809] 0.7777777777777778\n"
     ]
    },
    {
     "name": "stderr",
     "output_type": "stream",
     "text": [
      "\r",
      " 57%|███████████████████████████████████████████▋                                 | 17/30 [1:41:41<1:29:30, 413.10s/it]"
     ]
    },
    {
     "name": "stdout",
     "output_type": "stream",
     "text": [
      "[ 0.61393737 -0.21125989  0.46214607 -0.67786197  0.20139714  0.73172892\n",
      "  0.96704322 -0.84126842] 0.7878787878787878\n"
     ]
    },
    {
     "name": "stderr",
     "output_type": "stream",
     "text": [
      "\r",
      " 60%|██████████████████████████████████████████████▏                              | 18/30 [1:48:38<1:22:52, 414.41s/it]"
     ]
    },
    {
     "name": "stdout",
     "output_type": "stream",
     "text": [
      "[-0.14330545 -0.59091428 -0.09872702  0.09552715 -0.81334658 -0.40627845\n",
      "  0.85516848  0.13800746] 0.6363636363636364\n"
     ]
    },
    {
     "name": "stderr",
     "output_type": "stream",
     "text": [
      "\r",
      " 63%|████████████████████████████████████████████████▊                            | 19/30 [1:55:51<1:17:01, 420.14s/it]"
     ]
    },
    {
     "name": "stdout",
     "output_type": "stream",
     "text": [
      "[-0.085176    0.50705198  0.4837243  -0.90284193  0.41739479  0.6784867\n",
      " -0.66812423  0.56199588] 0.8181818181818182\n"
     ]
    },
    {
     "name": "stderr",
     "output_type": "stream",
     "text": [
      "\r",
      " 67%|███████████████████████████████████████████████████▎                         | 20/30 [2:03:07<1:10:46, 424.66s/it]"
     ]
    },
    {
     "name": "stdout",
     "output_type": "stream",
     "text": [
      "[-0.42692677 -0.38706049  0.33052293 -0.77721566  0.3297449   0.77571359\n",
      "  0.39262254 -0.11934425] 0.6363636363636364\n"
     ]
    },
    {
     "name": "stderr",
     "output_type": "stream",
     "text": [
      "\r",
      " 70%|█████████████████████████████████████████████████████▉                       | 21/30 [2:10:36<1:04:48, 432.04s/it]"
     ]
    },
    {
     "name": "stdout",
     "output_type": "stream",
     "text": [
      "[-0.12357123  0.53019219  0.131284   -0.83019167  0.16534218  0.62968741\n",
      " -0.32586723  0.85515316] 0.797979797979798\n"
     ]
    },
    {
     "name": "stderr",
     "output_type": "stream",
     "text": [
      "\r",
      " 73%|█████████████████████████████████████████████████████████▉                     | 22/30 [2:16:15<53:54, 404.28s/it]"
     ]
    },
    {
     "name": "stdout",
     "output_type": "stream",
     "text": [
      "[ 0.501434    0.14812765  0.50328798 -0.84170208  0.71877815  0.64300823\n",
      "  0.81974332 -0.7427376 ] 0.8282828282828283\n"
     ]
    },
    {
     "name": "stderr",
     "output_type": "stream",
     "text": [
      "\r",
      " 77%|████████████████████████████████████████████████████████████▌                  | 23/30 [2:22:31<46:09, 395.63s/it]"
     ]
    },
    {
     "name": "stdout",
     "output_type": "stream",
     "text": [
      "[-0.83643983 -0.72316885 -0.20124258 -0.15138628  0.12443676 -0.7555129\n",
      " -0.597201    0.6232887 ] 0.8282828282828283\n"
     ]
    },
    {
     "name": "stderr",
     "output_type": "stream",
     "text": [
      "\r",
      " 80%|███████████████████████████████████████████████████████████████▏               | 24/30 [2:29:45<40:43, 407.27s/it]"
     ]
    },
    {
     "name": "stdout",
     "output_type": "stream",
     "text": [
      "[-0.06402485  0.61587642 -0.98514724  0.10318545  0.8638643   0.16435092\n",
      " -0.58780855  0.43551512] 0.797979797979798\n"
     ]
    },
    {
     "name": "stderr",
     "output_type": "stream",
     "text": [
      "\r",
      " 83%|█████████████████████████████████████████████████████████████████▊             | 25/30 [2:37:02<34:39, 415.95s/it]"
     ]
    },
    {
     "name": "stdout",
     "output_type": "stream",
     "text": [
      "[-0.2420283   0.33676789 -0.94136055  0.27180072 -0.93560413  0.48956131\n",
      " -0.054174   -0.75649129] 0.7878787878787878\n"
     ]
    },
    {
     "name": "stderr",
     "output_type": "stream",
     "text": [
      "\r",
      " 87%|████████████████████████████████████████████████████████████████████▍          | 26/30 [2:44:28<28:20, 425.07s/it]"
     ]
    },
    {
     "name": "stdout",
     "output_type": "stream",
     "text": [
      "[ 0.08527185 -0.86645111  0.30672974  0.99217265  0.53879467  0.14754823\n",
      " -0.79472948  0.39966815] 0.6262626262626263\n"
     ]
    },
    {
     "name": "stderr",
     "output_type": "stream",
     "text": [
      "\r",
      " 90%|███████████████████████████████████████████████████████████████████████        | 27/30 [2:51:33<21:14, 424.95s/it]"
     ]
    },
    {
     "name": "stdout",
     "output_type": "stream",
     "text": [
      "[ 0.32233573 -0.90180574  0.5845986   0.03743318 -0.14826461  0.57637435\n",
      " -0.17686155 -0.03794745] 0.8181818181818182\n"
     ]
    },
    {
     "name": "stderr",
     "output_type": "stream",
     "text": [
      "\r",
      " 93%|█████████████████████████████████████████████████████████████████████████▋     | 28/30 [2:56:40<12:59, 389.83s/it]"
     ]
    },
    {
     "name": "stdout",
     "output_type": "stream",
     "text": [
      "[-0.63674231 -0.3573622   0.69106599 -0.6261925  -0.16541788  0.97806901\n",
      " -0.52680038  0.83366467] 0.7878787878787878\n"
     ]
    },
    {
     "name": "stderr",
     "output_type": "stream",
     "text": [
      "\r",
      " 97%|████████████████████████████████████████████████████████████████████████████▎  | 29/30 [3:01:54<06:06, 366.91s/it]"
     ]
    },
    {
     "name": "stdout",
     "output_type": "stream",
     "text": [
      "[ 0.83679494 -0.81740732 -0.07269455  0.00443267 -0.3726621  -0.90532093\n",
      " -0.51662873 -0.80894072] 0.7878787878787878\n"
     ]
    },
    {
     "name": "stderr",
     "output_type": "stream",
     "text": [
      "100%|███████████████████████████████████████████████████████████████████████████████| 30/30 [3:07:15<00:00, 374.53s/it]"
     ]
    },
    {
     "name": "stdout",
     "output_type": "stream",
     "text": [
      "[-0.52350019  0.61558217  0.78995658 -0.91355422 -0.39610633  0.9611644\n",
      "  0.07900965  0.25261872] 0.797979797979798\n"
     ]
    },
    {
     "name": "stderr",
     "output_type": "stream",
     "text": [
      "\n"
     ]
    }
   ],
   "source": [
    "# Statistics for the MPS\n",
    "run = False\n",
    "if run:\n",
    "    np.random.seed(123)\n",
    "    score_mps = []\n",
    "    for i in tqdm(range(30)):\n",
    "        # Setting starting parameters\n",
    "        starting_params = np.random.uniform(-1, 1, len(ansatz.parameters))\n",
    "        vqc_mps._fit_result = [starting_params ]\n",
    "        # Fit\n",
    "        vqc_mps.fit(training_features, training_labels)\n",
    "        score_mps += [ vqc_mps.score(training_features, training_labels) ]\n",
    "        print(starting_params, score_mps[i])"
   ]
  },
  {
   "cell_type": "code",
   "execution_count": 26,
   "id": "069c7367",
   "metadata": {},
   "outputs": [],
   "source": [
    "save = False\n",
    "load = True\n",
    "if save:\n",
    "    scores = np.array([score_mps, score_sv] ).transpose()\n",
    "    dataframe = pd.DataFrame(scores, columns=['Score_mps', 'Score_sv'])\n",
    "    dataframe.to_csv('data/Loop-comparison/scores.csv')\n",
    "    \n",
    "if load:\n",
    "    dataframe = pd.read_csv('data/Loop-comparison/scores.csv')"
   ]
  },
  {
   "cell_type": "code",
   "execution_count": 31,
   "id": "8f23c2fd",
   "metadata": {},
   "outputs": [
    {
     "name": "stdout",
     "output_type": "stream",
     "text": [
      "Score MPS: (0.767+- 0.072)\n",
      "Score STATEVECTOR: (0.759+- 0.074)\n"
     ]
    }
   ],
   "source": [
    "mean_mps = dataframe['Score_mps'].mean()\n",
    "std_mps = dataframe['Score_mps'].std()\n",
    "\n",
    "mean_sv = dataframe['Score_sv'].mean()\n",
    "std_sv = dataframe['Score_sv'].std()\n",
    "\n",
    "print(f'Score MPS: ({np.round(mean_mps, 3)}+- {np.round(std_mps, 3)})')\n",
    "print(f'Score STATEVECTOR: ({np.round(mean_sv, 3)}+- {np.round(std_sv, 3)})')"
   ]
  },
  {
   "cell_type": "code",
   "execution_count": 41,
   "id": "6f6ed508",
   "metadata": {},
   "outputs": [
    {
     "data": {
      "text/plain": [
       "array([[0.46191406, 0.53808594]])"
      ]
     },
     "execution_count": 41,
     "metadata": {},
     "output_type": "execute_result"
    }
   ],
   "source": [
    "vqc_mps.neural_network.forward(training_features[1], vqc_mps._fit_result[0])"
   ]
  },
  {
   "cell_type": "code",
   "execution_count": 42,
   "id": "d8b14700",
   "metadata": {},
   "outputs": [
    {
     "data": {
      "text/plain": [
       "array([[0.47680365, 0.52319635]])"
      ]
     },
     "execution_count": 42,
     "metadata": {},
     "output_type": "execute_result"
    }
   ],
   "source": [
    "vqc_sv.neural_network.forward(training_features[1], vqc_sv._fit_result[0])"
   ]
  },
  {
   "cell_type": "markdown",
   "id": "2682cf14",
   "metadata": {},
   "source": [
    "## Low level check\n",
    "\n",
    "Try to run directly the circuit as low level as possible"
   ]
  },
  {
   "cell_type": "code",
   "execution_count": 53,
   "id": "29206cc8",
   "metadata": {},
   "outputs": [],
   "source": [
    "def bind_params(qc, params):\n",
    "    \"\"\" Bind parameters of a generic qiskit circuits\n",
    "\n",
    "    Parameter\n",
    "    ---------\n",
    "    qc: QuantumCircuit\n",
    "      Quantum circuit object\n",
    "    params: array_like\n",
    "      Values of the parameters to assign\n",
    "\n",
    "    Returns\n",
    "    -------\n",
    "    binded_circ: QuantumCircuit\n",
    "      Circuit where the parameters has been fixed\n",
    "    \"\"\"\n",
    "    assert len(qc.parameters)==len(params), 'Array of values and parameters must have the same length'\n",
    "    values = {}\n",
    "    for p_val, p_key in zip(params, qc.parameters):\n",
    "        values[p_key] = p_val\n",
    "    binded_circ = qc.bind_parameters(values)\n",
    "    return binded_circ"
   ]
  },
  {
   "cell_type": "code",
   "execution_count": 111,
   "id": "bd9ec534",
   "metadata": {},
   "outputs": [
    {
     "data": {
      "image/png": "[encoded data removed]",
      "text/plain": [
       "<Figure size 1591.6x1047.48 with 1 Axes>"
      ]
     },
     "execution_count": 111,
     "metadata": {},
     "output_type": "execute_result"
    }
   ],
   "source": [
    "idx = 1\n",
    "\n",
    "qc = QuantumCircuit(feature_dim, feature_dim)\n",
    "\n",
    "binded_feature_map = bind_params(feature_map, training_features[idx])\n",
    "binded_ansatz = bind_params(ansatz, vqc_sv._fit_result[0])\n",
    "\n",
    "qc.append(binded_feature_map, range(feature_dim))\n",
    "qc.barrier()\n",
    "qc.append(binded_ansatz, range(feature_dim))\n",
    "#qc.save_statevector(label='my_sv')\n",
    "\n",
    "qc.barrier()\n",
    "qc.measure(range(feature_dim), range(feature_dim))\n",
    "\n",
    "qc.decompose().draw('mpl')"
   ]
  },
  {
   "cell_type": "code",
   "execution_count": 120,
   "id": "cb6e9f36",
   "metadata": {},
   "outputs": [],
   "source": [
    "seed = 123\n",
    "\n",
    "job_sv = execute(qc, QasmSimulator(method='statevector'), seed_simulator=seed, seed_transpiler=seed, shots=1024)\n",
    "\n",
    "mps_backend = QasmSimulator(method='matrix_product_state', matrix_product_state_max_bond_dimension=4)\n",
    "job_mps = execute(qc, mps_backend, seed_simulator=seed, seed_transpiler=seed, shots=1024)\n"
   ]
  },
  {
   "cell_type": "code",
   "execution_count": 122,
   "id": "a59a25ee",
   "metadata": {},
   "outputs": [
    {
     "name": "stdout",
     "output_type": "stream",
     "text": [
      "{'counts': {'0xf': 84, '0xc': 91, '0x0': 114, '0x1': 204, '0x2': 60, '0xd': 70, '0x5': 96, '0x7': 4, '0xe': 63, '0x8': 49, '0xb': 79, '0x6': 59, '0x9': 19, '0x3': 18, '0x4': 13, '0xa': 1}}\n",
      "{'counts': {'0xf': 84, '0xc': 91, '0x0': 114, '0x1': 204, '0x2': 60, '0xd': 70, '0x5': 96, '0x7': 4, '0xe': 63, '0x8': 49, '0xb': 79, '0x6': 59, '0x9': 19, '0x3': 18, '0x4': 13, '0xa': 1}}\n"
     ]
    }
   ],
   "source": [
    "#statevect_sv = job_sv.result().data()['statevector']\n",
    "measures_sv = job_sv.result()\n",
    "\n",
    "print(job_sv.result().data())\n",
    "print(job_mps.result().data())\n",
    "\n",
    "#statevect_mps = job_mps.result().data()['my_sv']"
   ]
  },
  {
   "cell_type": "code",
   "execution_count": 114,
   "id": "8d3aa8ec",
   "metadata": {},
   "outputs": [
    {
     "data": {
      "text/plain": [
       "(0.4627770373520579-1.554312234475219e-14j)"
      ]
     },
     "execution_count": 114,
     "metadata": {},
     "output_type": "execute_result"
    }
   ],
   "source": [
    "(statevect_sv*np.conjugate(statevect_mps) ).sum()"
   ]
  },
  {
   "cell_type": "code",
   "execution_count": 108,
   "id": "fa132e8a",
   "metadata": {},
   "outputs": [
    {
     "name": "stdout",
     "output_type": "stream",
     "text": [
      "0j (0.3270186733657475-0.12358775218275792j)\n",
      "(0.682417093779734+0.7309630018798636j) (0.31580696089777544+0.33827289242394065j)\n",
      "0j (0.0742039291426986+0.2300514739448022j)\n",
      "0j (-0.11564507189213943+0.08103258143445123j)\n",
      "0j (-0.1160612596179072+0.08092578300571261j)\n",
      "0j (-0.2973118702094664+0.03637743669996338j)\n",
      "0j (0.018943570989509467-0.2333917200469279j)\n",
      "0j (-0.0633052986026058-0.04376728409050666j)\n",
      "0j (0.1804725482139832-0.10930557178553664j)\n",
      "0j (0.036427377956112804+0.11191842250647978j)\n",
      "0j (0.013003065383765002+0.006916356285244755j)\n",
      "0j (0.11043603136083885-0.21686264821409068j)\n",
      "0j (-0.1903519983128035+0.24184278999416187j)\n",
      "0j (-0.25285152915595105+0.08812324071461342j)\n",
      "0j (0.08308180257974995-0.20570796873224895j)\n",
      "0j (-0.22202429875905563+0.17892458900749653j)\n"
     ]
    }
   ],
   "source": [
    "for i, j in zip(statevect_sv, statevect_mps):\n",
    "    print(i, j)"
   ]
  },
  {
   "cell_type": "code",
   "execution_count": null,
   "id": "db301ecf",
   "metadata": {},
   "outputs": [],
   "source": []
  }
 ],
 "metadata": {
  "kernelspec": {
   "display_name": "Python 3",
   "language": "python",
   "name": "python3"
  },
  "language_info": {
   "codemirror_mode": {
    "name": "ipython",
    "version": 3
   },
   "file_extension": ".py",
   "mimetype": "text/x-python",
   "name": "python",
   "nbconvert_exporter": "python",
   "pygments_lexer": "ipython3",
   "version": "3.6.13"
  }
 },
 "nbformat": 4,
 "nbformat_minor": 5
}
