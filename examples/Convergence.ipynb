{
 "cells": [
  {
   "cell_type": "code",
   "execution_count": 6,
   "metadata": {},
   "outputs": [],
   "source": [
    "import matplotlib.pyplot as plt\n",
    "import numpy as np\n",
    "from qplotting import Qplotter\n",
    "from qplotting.utils import set_size_pt\n",
    "import seaborn as sns\n",
    "cmap = sns.color_palette('deep', as_cmap=True)"
   ]
  },
  {
   "cell_type": "code",
   "execution_count": 2,
   "metadata": {},
   "outputs": [],
   "source": [
    "def extract_fidelities(num_qubits):\n",
    "    fids = {}\n",
    "    for nq in num_qubits:\n",
    "        path = f\"data/svd_checks/{nq}/\"\n",
    "        singvals = [np.load(path+f\"states_0.npy\", allow_pickle=True)]\n",
    "\n",
    "        for idx in range(1, 10):\n",
    "            try:\n",
    "                sv = np.load(path+f\"states_{idx}.npy\", allow_pickle=True)\n",
    "                if sv.shape == singvals[0].shape:\n",
    "                    singvals.append( sv )\n",
    "            except:\n",
    "                print(f\"No file with index {idx} for {nq} qubits\")\n",
    "                break\n",
    "        fidelities = []\n",
    "        for sv in singvals:\n",
    "            fid = np.cumprod( (1-sv)**2 )\n",
    "            fidelities.append(fid)\n",
    "\n",
    "        if len(fidelities) >1:\n",
    "            mean_fid = np.mean(fidelities, axis=0)\n",
    "            std_fid = np.std(fidelities, axis=0)\n",
    "        else:\n",
    "            mean_fid = fidelities\n",
    "            std_fid = np.zeros_like(fidelities)\n",
    "\n",
    "        fids[nq] = np.vstack((mean_fid, std_fid))\n",
    "\n",
    "    return fids"
   ]
  },
  {
   "cell_type": "code",
   "execution_count": 3,
   "metadata": {},
   "outputs": [],
   "source": [
    "num_qubits = [30, 50]\n",
    "fids = extract_fidelities(num_qubits)"
   ]
  },
  {
   "cell_type": "code",
   "execution_count": 17,
   "metadata": {},
   "outputs": [
    {
     "name": "stdout",
     "output_type": "stream",
     "text": [
      "Fig dimension in pt: 234 144\n"
     ]
    },
    {
     "data": {
      "image/png": "[encoded data removed]",
      "text/plain": [
       "<Figure size 233.126x144.08 with 1 Axes>"
      ]
     },
     "metadata": {
      "needs_background": "light"
     },
     "output_type": "display_data"
    }
   ],
   "source": [
    "plotter = Qplotter()\n",
    "#plotter(nrows=1, ncols=2, figsize=set_size_pt(2*234, subplots=(1, 2)) )\n",
    "plotter(figsize=set_size_pt(234))\n",
    "\n",
    "tt_30 = fids[30].shape[1]\n",
    "tt_50 = fids[50].shape[1]\n",
    "len_layer_30 = int( tt_30/14 )\n",
    "len_layer_50 = int( tt_50/14 )\n",
    "\n",
    "fid_30_per_layer = fids[30][0, np.arange(0, tt_30, len_layer_30)]\n",
    "#[ np.prod( fids[30][0, :][ii*len_layer_30:(ii+1)*len_layer_30]) for ii in range(14) ]\n",
    "fid_50_per_layer = fids[50][0, np.arange(0, tt_50, len_layer_50)]\n",
    "#[ np.prod(fids[50][0, :][ii*len_layer_50:(ii+1)*len_layer_50]) for ii in range(14) ]\n",
    "layers = np.arange(1, 15)\n",
    "\n",
    "bonddim = [2**ii for ii in range(13)]\n",
    "entanglement = np.loadtxt(\"data/svd_checks/50/layer9_ent.npy\")\n",
    "entanglement = np.max(entanglement, axis=1)\n",
    "relative_ent_err = np.abs(entanglement - entanglement[-1] )/entanglement[-1]\n",
    "\n",
    "with plotter as qplt:\n",
    "    qplt.ax.axhline(1e-4, color=\"red\", ls='--', alpha=0.8, label=\"Relaiability threshold\")\n",
    "    qplt.ax.plot(layers, 1-fid_30_per_layer+1e-12, 'o--', label=\"$n=30$\", color=cmap[0])\n",
    "    qplt.ax.plot(layers, 1-fid_50_per_layer+1e-12, '*--', label=\"$n=50$\", color=cmap[1])\n",
    "    qplt.ax.set_yscale(\"log\")\n",
    "    qplt.ax.set_xticks(np.arange(1, 15, 4))\n",
    "    #qplt.set_ylim(1e-13, 100)\n",
    "    #qplt.ax[0].vlines(len_layer*13, mean_fid[len_layer*13]-0.005, mean_fid[len_layer*13]+0.005, label=\"layer\", color=\"red\")\n",
    "\n",
    "    qplt.ax.set_xlabel(\"Number of layers $L$\")\n",
    "    qplt.ax.set_ylabel(\"Infidelity of the state $1-F(t)$\")\n",
    "    qplt.ax.legend(frameon=False, loc=\"center left\")\n",
    "\n",
    "    #qplt.ax[1].plot(bonddim, relative_ent_err[:13], 'o--', label=\"$L=9$\", color=cmap[2])\n",
    "    #qplt.ax[1].set_ylabel(\"Relative entanglement error\")\n",
    "    #qplt.ax[1].set_xlabel(\"Maximum bond dimension $\\chi_s$\")\n",
    "    #qplt.ax[1].set_xscale(\"log\", base=2)\n",
    "    #qplt.ax[1].set_yscale(\"log\")\n",
    "    #qplt.ax[1].legend(frameon=False)\n",
    "\n",
    "    qplt.savefig(\"images/covergence.pdf\")"
   ]
  },
  {
   "cell_type": "markdown",
   "metadata": {},
   "source": [
    "# Time difference between exact and MPS"
   ]
  },
  {
   "cell_type": "code",
   "execution_count": 177,
   "metadata": {},
   "outputs": [],
   "source": [
    "times_aer = np.loadtxt(\"data/marcos_plot/alternate_abbas16_Aer_time.npy\")\n",
    "times_mps = np.loadtxt(\"data/marcos_plot/alternate_abbas16_MPS_time.npy\")"
   ]
  },
  {
   "cell_type": "code",
   "execution_count": 179,
   "metadata": {},
   "outputs": [
    {
     "name": "stdout",
     "output_type": "stream",
     "text": [
      "Fig dimension in pt: 234 144\n"
     ]
    },
    {
     "data": {
      "image/png": "[encoded data removed]",
      "text/plain": [
       "<Figure size 233.126x144.08 with 1 Axes>"
      ]
     },
     "metadata": {
      "needs_background": "light"
     },
     "output_type": "display_data"
    }
   ],
   "source": [
    "layers = np.arange(1, len(times_aer)+1)\n",
    "\n",
    "with Qplotter() as qplt:\n",
    "    qplt.plot(layers, (times_aer), 'o--', label=\"Aer\", color=cmap[0])\n",
    "    qplt.plot(layers, (times_mps), '*--', label=\"Mps\", color=cmap[1])\n",
    "\n",
    "    qplt.set_xscale(\"log\")\n",
    "    qplt.set_yscale(\"log\")\n",
    "    qplt.set_ylabel(\"Time [s]\")\n",
    "    qplt.set_xlabel(\"Number of layers $L$\")\n",
    "    qplt.legend()\n",
    "\n",
    "    qplt.savefig(\"images/Exact_MPS_comparison.pdf\")"
   ]
  },
  {
   "attachments": {},
   "cell_type": "markdown",
   "metadata": {},
   "source": [
    "# Marchenko pastur distribution"
   ]
  },
  {
   "cell_type": "code",
   "execution_count": 7,
   "metadata": {},
   "outputs": [],
   "source": [
    "from marchenko_pastur import gen_mp\n",
    "\n",
    "def kl_div(prob_p, prob_q, dp):\n",
    "    prob_p += 1e-12\n",
    "    prob_q += 1e-12\n",
    "    return  prob_p*np.log(prob_p/prob_q)*dp\n",
    "\n",
    "\n",
    "def get_mp_distributions(num_qub, max_num_layers, filename):\n",
    "    bonddim = 2**(num_qub//2)\n",
    "    bins = np.logspace(-5, -1.5, 50)\n",
    "    num_layers = np.arange(1, max_num_layers)\n",
    "    results = {\n",
    "        \"bins\" : bins,\n",
    "        \"layers\" : num_layers,\n",
    "        \"num_qubits\" : num_qub,\n",
    "        \"xx\" : (bins[1:]+ bins[:-1])/2,\n",
    "        \"dp\" : (bins[1:]- bins[:-1]),\n",
    "    }\n",
    "\n",
    "    # Marchenko-pastur distributed\n",
    "    l1 = num_qub//2\n",
    "    l2 = num_qub//2 if num_qub%2 == 0 else num_qub//2+1\n",
    "    sigma = np.sqrt(1.0 / 2**(max(l1, l2)))\n",
    "    sampled_singvals = np.array([])\n",
    "    for _ in range(1000):\n",
    "        s_singvals = gen_mp(2**l2, 2**l1, sigma, bonddim, bonddim)\n",
    "        s_singvals /= np.sqrt( np.sum(s_singvals**2) )\n",
    "        sampled_singvals = np.append(sampled_singvals, s_singvals)\n",
    "    mp_hist, _ = np.histogram(sampled_singvals**2, bins, density=True)\n",
    "    results[\"mp\"] = mp_hist\n",
    "    results[\"cmp\"] = np.cumsum(mp_hist)/np.sum(mp_hist)\n",
    "\n",
    "    # From Haar-random state\n",
    "    random_state_singvals = np.array([])\n",
    "    for _ in range(100):\n",
    "        psi = np.random.normal(0, sigma, 2**num_qub) + 1j*np.random.normal(0, sigma, 2**num_qub)\n",
    "        psi /= np.sqrt( np.sum( np.abs(psi)**2 ) )\n",
    "        rn_ss = np.linalg.svd(psi.reshape(2**l1, 2**l2), False, False)\n",
    "        rn_ss /= np.sqrt( np.sum(rn_ss**2) )\n",
    "        random_state_singvals = np.hstack( (random_state_singvals, rn_ss))\n",
    "    rn_hist, _ = np.histogram(random_state_singvals**2, bins, density=True)\n",
    "    results[\"random\"] = rn_hist\n",
    "    results[\"crandom\"] = np.cumsum(rn_hist)/np.sum(rn_hist)\n",
    "\n",
    "    # Experimental\n",
    "    exp_hists = []\n",
    "    exp_cum = []\n",
    "    for nl in num_layers:\n",
    "        singvals = []\n",
    "        for ss in np.load(filename + f\"{num_qub}_{nl}.npy\", allow_pickle=True):\n",
    "            singvals = np.hstack((singvals, ss))\n",
    "\n",
    "        exp_hist, _ = np.histogram(singvals**2, bins, density=True)\n",
    "        exp_hists.append(exp_hist)\n",
    "        exp_cum.append( np.cumsum(exp_hist)/np.sum(exp_hist) )\n",
    "    results[\"exp\"] = exp_hists\n",
    "    results[\"cexp\"] = exp_cum\n",
    "\n",
    "    return results\n",
    "\n",
    "def plot_mp_results(fig, ax, results):\n",
    "\n",
    "    mask = results[\"mp\"] > 1e-10\n",
    "    ax[0].plot(results[\"xx\"][mask], results[\"cmp\"][mask], lw=5, label=\"MP\")\n",
    "\n",
    "    mask = results[\"random\"] > 1e-10\n",
    "    ax[0].plot(results[\"xx\"][mask], results[\"crandom\"][mask], '--', lw=2, color=\"black\", label=\"RAND\")\n",
    "\n",
    "    layers_to_plot = np.linspace( np.max(results[\"layers\"])//3, np.max(results[\"layers\"]), 4 )\n",
    "    layers_to_plot = np.unique( layers_to_plot.astype(int) )\n",
    "\n",
    "    kl_divergences = []\n",
    "    for idx, nl in enumerate(results[\"layers\"]):\n",
    "        exp_hist = results[\"exp\"][idx]\n",
    "        kl = kl_div(results[\"mp\"], exp_hist, results[\"dp\"])\n",
    "        kl_divergences.append(np.sum(kl) )\n",
    "\n",
    "        if nl in layers_to_plot:\n",
    "            mask = exp_hist > 1e-10\n",
    "            ax[0].plot(results[\"xx\"][mask], results[\"cexp\"][idx][mask], '.-', label=\"$L=$\"+str(nl), alpha=0.5 )\n",
    "\n",
    "    ax[0].legend()\n",
    "    ax[0].set_yscale(\"log\")\n",
    "    ax[0].set_xscale(\"log\")\n",
    "    ax[0].set_ylabel(\"Cumulative probability\")\n",
    "    ax[0].set_xlabel(\"Singular values squared\")\n",
    "\n",
    "\n",
    "    kl_div_good = np.sum( kl_div(results[\"mp\"], results[\"random\"], results[\"dp\"]) )\n",
    "    # Parameters of the variational ansatz + parameters of the feature map\n",
    "\n",
    "    ax[1].axhline(kl_div_good, ls='--', color=\"black\", label=\"Best value\")\n",
    "    #ax[1].axvline(2**num_qub, ls='--', color=\"red\", label=\"Best value\")\n",
    "    ax[1].plot(results[\"layers\"], kl_divergences, 'o', label=\"Experimental value\")\n",
    "    ax[1].set_yscale(\"log\")\n",
    "    #ax[1].set_xscale(\"log\")\n",
    "    ax[1].set_ylabel(\"KL divergence between experimental and MP distribution\")\n",
    "    ax[1].set_xlabel(\"Number of layers\")\n",
    "    ax[1].legend()\n",
    "\n",
    "def plot_mp_distribution(fig, ax, results):\n",
    "\n",
    "    mask = results[\"mp\"] > 1e-10\n",
    "    ax.plot(results[\"xx\"][mask], results[\"cmp\"][mask], lw=3, label=\"MP\")\n",
    "\n",
    "    mask = results[\"random\"] > 1e-10\n",
    "    ax.plot(results[\"xx\"][mask], results[\"crandom\"][mask], '--', lw=1.5, color=\"black\", label=\"Haar\")\n",
    "\n",
    "    layers_to_plot = [6, 10, 15]\n",
    "\n",
    "    kl_divergences = []\n",
    "    for idx, nl in enumerate(results[\"layers\"]):\n",
    "        exp_hist = results[\"exp\"][idx]\n",
    "        kl = kl_div(results[\"mp\"], exp_hist, results[\"dp\"])\n",
    "        kl_divergences.append(np.sum(kl) )\n",
    "\n",
    "        if nl in layers_to_plot:\n",
    "            mask = exp_hist > 1e-10\n",
    "            ax.plot(results[\"xx\"][mask], results[\"cexp\"][idx][mask], '.-', label=\"$L=$\"+str(nl), alpha=0.8 )\n",
    "\n",
    "    ax.legend(frameon=False, handletextpad=0.4)\n",
    "    ax.set_yscale(\"log\")\n",
    "    ax.set_xscale(\"log\")\n",
    "    ax.set_ylabel(\"CDF $C(\\lambda^2)$\")\n",
    "    ax.set_xlabel(\"Singular values squared $\\lambda^2$\")\n",
    "    ax.set_ylim(10**(-2.1), 1.5)"
   ]
  },
  {
   "cell_type": "code",
   "execution_count": 8,
   "metadata": {},
   "outputs": [],
   "source": [
    "filename = \"data/marchenko-pastur/singvals\"\n",
    "num_qub = 15\n",
    "max_nl = 20\n",
    "\n",
    "results15_zzc2 = get_mp_distributions(num_qub, max_nl, filename)\n",
    "\n",
    "filename = \"data/marchenko-pastur/singvals_c2c2_\"\n",
    "num_qub = 15\n",
    "max_nl = 16\n",
    "\n",
    "results15_c2c2 = get_mp_distributions(num_qub, max_nl, filename)"
   ]
  },
  {
   "cell_type": "code",
   "execution_count": 9,
   "metadata": {},
   "outputs": [
    {
     "name": "stdout",
     "output_type": "stream",
     "text": [
      "Fig dimension in pt: 234 144\n"
     ]
    },
    {
     "data": {
      "image/png": "[encoded data removed]",
      "text/plain": [
       "<Figure size 233.126x144.08 with 1 Axes>"
      ]
     },
     "metadata": {
      "needs_background": "light"
     },
     "output_type": "display_data"
    }
   ],
   "source": [
    "with Qplotter() as qplt:\n",
    "    plot_mp_distribution(qplt.fig, qplt.ax, results15_zzc2)\n",
    "\n",
    "    qplt.savefig(\"images/mp_convergence.pdf\")"
   ]
  },
  {
   "cell_type": "code",
   "execution_count": null,
   "metadata": {},
   "outputs": [],
   "source": []
  }
 ],
 "metadata": {
  "kernelspec": {
   "display_name": "Python 3.9.7 ('py_tn')",
   "language": "python",
   "name": "python3"
  },
  "language_info": {
   "codemirror_mode": {
    "name": "ipython",
    "version": 3
   },
   "file_extension": ".py",
   "mimetype": "text/x-python",
   "name": "python",
   "nbconvert_exporter": "python",
   "pygments_lexer": "ipython3",
   "version": "3.9.7"
  },
  "orig_nbformat": 4,
  "vscode": {
   "interpreter": {
    "hash": "639848ca415c9b0e020bb8071f32c875f804b698c3fc0c66541f206d1ea5634d"
   }
  }
 },
 "nbformat": 4,
 "nbformat_minor": 2
}
