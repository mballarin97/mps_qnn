{
 "cells": [
  {
   "cell_type": "markdown",
   "metadata": {},
   "source": [
    "# Expressibility: gather and plot results"
   ]
  },
  {
   "cell_type": "code",
   "execution_count": null,
   "metadata": {},
   "outputs": [],
   "source": [
    "# This code is part of qcircha.\n",
    "#\n",
    "# This code is licensed under the Apache License, Version 2.0. You may\n",
    "# obtain a copy of this license in the LICENSE.txt file in the root directory\n",
    "# of this source tree or at http://www.apache.org/licenses/LICENSE-2.0.\n",
    "#\n",
    "# Any modifications or derivative works of this code must retain this\n",
    "# copyright notice, and modified files need to carry a notice indicating\n",
    "# that they have been altered from the originals."
   ]
  },
  {
   "cell_type": "code",
   "execution_count": null,
   "metadata": {},
   "outputs": [],
   "source": [
    "# Plotting libraries and setting\n",
    "import matplotlib.pyplot as plt\n",
    "import matplotlib\n",
    "matplotlib.rcParams['text.usetex'] = True\n",
    "\n",
    "import seaborn as sns\n",
    "cmap = sns.color_palette(as_cmap=True)\n",
    "sns.set_context(\"paper\")\n",
    "\n",
    "# Useful libraries\n",
    "import numpy as np\n",
    "import json\n",
    "from tqdm import tqdm\n",
    "import pprint\n",
    "pp = pprint.PrettyPrinter(indent=4)\n",
    "\n",
    "# Simulation experiment\n",
    "from qcircha.utils import gather_data, list_data\n",
    "\n",
    "# Path of the simulation data\n",
    "data_path = \"./data/data/expr/\"\n",
    "list_data(path=data_path)"
   ]
  },
  {
   "cell_type": "markdown",
   "metadata": {},
   "source": [
    "## Example of usage"
   ]
  },
  {
   "cell_type": "code",
   "execution_count": null,
   "metadata": {},
   "outputs": [],
   "source": [
    "# Provide keys in the json file, and corresponding desired value\n",
    "data_runs = gather_data(key=['n_bins', 'num_qubits','fmap', 'var_ansatz'],\n",
    "                        value=[100, 8, 'identity', 'TwoLocal_parametricRz'],\n",
    "                        path=data_path)\n",
    "\n",
    "# Select a run from those satisfying (key, values) requirements above\n",
    "idx_run = 0\n",
    "run = data_runs[idx_run]\n",
    "print(f\"{len(data_runs)} runs available. Selecting run: {run}\")\n",
    "\n",
    "expr_data = np.load(data_path + run + \".npy\", allow_pickle=True)\n",
    "with open(data_path + run + '.json') as file:\n",
    "    expr_metadata = json.load(file)\n",
    "pp.pprint(expr_metadata)"
   ]
  },
  {
   "cell_type": "code",
   "execution_count": null,
   "metadata": {},
   "outputs": [],
   "source": [
    "fig = plt.figure(figsize=(9.6, 6))\n",
    "\n",
    "plt.ylabel(r\"Expressivity $D_{KL}$\")\n",
    "plt.xlabel(\"Number of layers, $L$\")\n",
    "\n",
    "plt.yscale('log')\n",
    "plt.plot(range(1, len(expr_data)+1), expr_data, marker='o', ls='--')\n",
    "plt.tight_layout()"
   ]
  },
  {
   "cell_type": "markdown",
   "metadata": {},
   "source": [
    "## Expressibility plot"
   ]
  },
  {
   "cell_type": "markdown",
   "metadata": {},
   "source": [
    "Selecting data"
   ]
  },
  {
   "cell_type": "code",
   "execution_count": null,
   "metadata": {},
   "outputs": [],
   "source": [
    "# SELECTING FIRST QNN ARCHITECTURE\n",
    "data_runs = gather_data(key=['n_bins', 'num_qubits', 'fmap', 'var_ansatz', 'var_entanglement'],\n",
    "                        value=[100, 8, 'ZZFeatureMap', 'TwoLocal', 'linear'],\n",
    "                        path=data_path)\n",
    "                     \n",
    "expr_data = []\n",
    "for run in data_runs:\n",
    "    expr_data.append(np.load(data_path + run + \".npy\", allow_pickle=True))\n",
    "expr_data = np.array(expr_data)\n",
    "expr_data = np.mean(expr_data, axis = 0)\n",
    "print(f\"Averaging over {len(data_runs)} runs\")\n",
    "# --------------------------------------------------------------\n",
    "\n",
    "\n",
    "# SELECTING SECOND QNN ARCHITECTURE\n",
    "data_runs = gather_data(key=['n_bins', 'num_qubits', 'fmap', 'var_ansatz', 'var_entanglement'],\n",
    "                        value=[100, 8, 'TwoLocal', 'TwoLocal', 'linear'],\n",
    "                        path=data_path)\n",
    "\n",
    "expr_data1 = []\n",
    "for run in data_runs:\n",
    "    expr_data1.append(np.load(data_path + run + \".npy\", allow_pickle=True))\n",
    "expr_data1 = np.array(expr_data1)\n",
    "expr_data1 = np.mean(expr_data1, axis=0)\n",
    "print(f\"Averaging over {len(data_runs)} runs\")\n",
    "# --------------------------------------------------------------\n",
    "\n",
    "\n",
    "# SELECTING THIRD QNN ARCHITECTURE\n",
    "data_runs = gather_data(key=['n_bins', 'num_qubits', 'fmap', 'var_ansatz', 'var_entanglement'],\n",
    "                        value=[100, 8, 'TwoLocal_parametricRz', 'TwoLocal', 'linear'],\n",
    "                        path=data_path)\n",
    "\n",
    "expr_data2 = []\n",
    "for run in data_runs:\n",
    "    expr_data2.append(np.load(data_path + run + \".npy\", allow_pickle=True))\n",
    "expr_data2 = np.array(expr_data2)\n",
    "expr_data2 = np.mean(expr_data2, axis=0)\n",
    "print(f\"Averaging over {len(data_runs)} runs\")\n",
    "# --------------------------------------------------------------\n",
    "\n",
    "\n",
    "# SELECTING FOURTH QNN ARCHITECTURE\n",
    "data_runs = gather_data(key=['n_bins', 'num_qubits', 'fmap', 'var_ansatz', 'var_entanglement'],\n",
    "                        value=[100, 8, 'circuit1', 'TwoLocal', 'linear'],\n",
    "                        path=data_path)\n",
    "\n",
    "expr_data3 = []\n",
    "for run in data_runs:\n",
    "    expr_data3.append(np.load(data_path + run + \".npy\", allow_pickle=True))\n",
    "expr_data3 = np.array(expr_data3)\n",
    "expr_data3 = np.mean(expr_data3, axis=0)\n",
    "print(f\"Averaging over {len(data_runs)} runs\")\n",
    "# --------------------------------------------------------------\n",
    "\n",
    "\n",
    "\n",
    "expr_data4 = []\n",
    "for run in data_runs:\n",
    "    expr_data4.append(np.load(data_path + run + \".npy\", allow_pickle=True))\n",
    "expr_data4 = np.array(expr_data4)\n",
    "expr_data4 = np.mean(expr_data4, axis=0)\n",
    "print(f\"Averaging over {len(data_runs)} runs\")\n",
    "# --------------------------------------------------------------\n",
    "\n",
    "data_to_plot = [expr_data, expr_data1, expr_data2, expr_data3, expr_data4]\n"
   ]
  },
  {
   "cell_type": "markdown",
   "metadata": {},
   "source": [
    "Plot"
   ]
  },
  {
   "cell_type": "code",
   "execution_count": null,
   "metadata": {},
   "outputs": [],
   "source": [
    "fig, ax = plt.subplots(figsize=(9.6, 6))\n",
    "\n",
    "plt.ylabel(\"Expressibility\", fontsize=16)\n",
    "plt.xlabel(\"Number of layers $L$\", fontsize=16)\n",
    "plt.yscale('log')\n",
    "\n",
    "#plt.plot([], [], lw=0, label=\"$n=8$\")\n",
    "#plt.plot([], [], lw=0, label=\"Linear entanglement\")\n",
    "#plt.plot([], [], lw=0, color='grey', label=\"$V =\\:$ Circuit 2\")\n",
    "\n",
    "# these are matplotlib.patch.Patch properties\n",
    "props = dict(boxstyle='round', facecolor='wheat', alpha=0.5, edgecolor = 'w')\n",
    "plt.text(8.35, 5e-2, \"Low expressibility\", bbox=props,  fontsize=16)\n",
    "plt.text(8.35, 1.1e-3, \"High expressibility\", bbox = props, fontsize = 16)\n",
    "\n",
    "\n",
    "# Check the order with the cell above!\n",
    "names = [r'$\\mathcal{F} =\\: \\textsc{C}_\\textsc{ZZ}$', r'$\\mathcal{F} =\\:\\textsc{C}_\\textsc{2}$',\n",
    "         r'$\\mathcal{F} =\\:\\textsc{C}_\\textsc{3}$', r'$\\mathcal{F} =\\:\\textsc{C}_\\textsc{1}$']\n",
    "\n",
    "alphas = np.ones(len(data_to_plot)) #np.linspace(0.4, 1, len(data_to_plot))[::-1]\n",
    "for idx, d in enumerate(data_to_plot[:-1]):\n",
    "    ax.plot(range(1, len(d)+1), d, color=cmap[idx], alpha=alphas[idx], marker='o', ls='--', label=names[idx], markersize=7)\n",
    "\n",
    "plt.xticks(range(1, 11), fontsize=14)\n",
    "plt.yticks(fontsize=14)\n",
    "\n",
    "handles, labels = ax.get_legend_handles_labels()\n",
    "# sort both labels and handles by labels\n",
    "sorter = [0, 3, 1, 2]\n",
    "labels = np.array(labels)[sorter]\n",
    "handles = np.array(handles)[sorter]\n",
    "ax.legend(handles, labels, fontsize=16)\n",
    "\n",
    "#plt.legend(fontsize=16)\n",
    "plt.tight_layout()\n",
    "plt.savefig(\"expr_linear_comparison_final.pdf\", format = 'pdf')"
   ]
  },
  {
   "cell_type": "markdown",
   "metadata": {},
   "source": [
    "## Example of additional custom simulations"
   ]
  },
  {
   "cell_type": "code",
   "execution_count": null,
   "metadata": {},
   "outputs": [],
   "source": [
    "from qiskit.circuit.library import TwoLocal, ZZFeatureMap\n",
    "from qcircha.expressivity import compute_espressivity"
   ]
  },
  {
   "cell_type": "code",
   "execution_count": null,
   "metadata": {},
   "outputs": [],
   "source": [
    "%%capture\n",
    "nq = 8\n",
    "circ = TwoLocal(nq, ['rx'], 'cx', 'linear', reps=1, skip_final_rotation_layer=True)\n",
    "a = compute_espressivity(nq, nq, feature_map='TwoLocal', var_ansatz='TwoLocal', backend='Aer', path=None, plot=False, save=False)\n",
    "\n",
    "circ = TwoLocal(nq, ['rx'], 'cx', 'linear', reps=1, skip_final_rotation_layer=True)\n",
    "b = compute_espressivity(nq, nq, feature_map='TwoLocal', var_ansatz=circ, backend='Aer', path=None, plot=False, save=False)\n",
    "\n",
    "circ = 'circuit15' # TwoLocal(nq, ['rx'], 'cx', 'linear', reps=1, skip_final_rotation_layer=True)\n",
    "c = compute_espressivity(nq, nq, feature_map='Identity', var_ansatz=circ, backend='Aer', path=None, plot=False, save=False)"
   ]
  },
  {
   "cell_type": "code",
   "execution_count": null,
   "metadata": {},
   "outputs": [],
   "source": [
    "fig = plt.figure(figsize=(9.6, 6))\n",
    "\n",
    "plt.ylabel(r\"Expressivity $D_{KL}$\")\n",
    "plt.xlabel(\"Number of layers, $L$\")\n",
    "\n",
    "plt.yscale('log')\n",
    "plt.plot(range(1, len(a)+1), a, marker='o', ls='--', label=\"a\")\n",
    "plt.plot(range(1, len(b)+1), b, marker='o', ls='--', label=\"b\")\n",
    "plt.plot(range(1, len(c)+1), c, marker='o', ls='--', label=\"c\")\n",
    "\n",
    "plt.legend()\n",
    "plt.tight_layout()"
   ]
  }
 ],
 "metadata": {
  "interpreter": {
   "hash": "4f32f21c3de35334d3da59bc9f146f0c4f894e84ab0c68b497b9a4c513b6214e"
  },
  "kernelspec": {
   "display_name": "Python 3.8.12 64-bit ('QNN-TN': conda)",
   "language": "python",
   "name": "python3"
  },
  "language_info": {
   "codemirror_mode": {
    "name": "ipython",
    "version": 3
   },
   "file_extension": ".py",
   "mimetype": "text/x-python",
   "name": "python",
   "nbconvert_exporter": "python",
   "pygments_lexer": "ipython3",
   "version": "3.9.7"
  },
  "orig_nbformat": 4
 },
 "nbformat": 4,
 "nbformat_minor": 2
}
