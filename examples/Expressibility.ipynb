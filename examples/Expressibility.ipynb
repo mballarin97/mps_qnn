{
 "cells": [
  {
   "cell_type": "markdown",
   "metadata": {},
   "source": [
    "# Expressibility: gather and plot results"
   ]
  },
  {
   "cell_type": "code",
   "execution_count": 1,
   "metadata": {},
   "outputs": [],
   "source": [
    "# This code is part of qcircha.\n",
    "#\n",
    "# This code is licensed under the Apache License, Version 2.0. You may\n",
    "# obtain a copy of this license in the LICENSE.txt file in the root directory\n",
    "# of this source tree or at http://www.apache.org/licenses/LICENSE-2.0.\n",
    "#\n",
    "# Any modifications or derivative works of this code must retain this\n",
    "# copyright notice, and modified files need to carry a notice indicating\n",
    "# that they have been altered from the originals."
   ]
  },
  {
   "cell_type": "code",
   "execution_count": 1,
   "metadata": {},
   "outputs": [
    {
     "data": {
      "text/plain": [
       "['2022-03-09_17-50-48_197',\n",
       " '2022-03-09_17-55-31_362',\n",
       " '2022-03-10_09-02-54_218',\n",
       " '2022-03-09_17-52-19_217',\n",
       " '2022-03-09_17-50-17_554',\n",
       " '2022-03-09_17-49-59_566',\n",
       " '2022-03-09_17-49-45_828',\n",
       " '2022-03-10_09-04-14_156',\n",
       " '2022-03-10_09-04-17_959',\n",
       " '2022-03-10_09-02-42_900',\n",
       " '2022-03-10_09-04-36_534',\n",
       " '2022-03-09_17-54-56_369',\n",
       " '2022-03-09_17-52-24_367',\n",
       " '2022-03-09_17-50-42_854',\n",
       " '2022-03-09_17-53-44_103',\n",
       " '2022-03-09_17-50-34_103',\n",
       " '2022-03-09_17-54-02_925',\n",
       " '2022-03-10_09-04-33_590',\n",
       " '2022-03-09_17-53-51_815',\n",
       " '2022-03-09_17-53-26_62',\n",
       " '2022-03-10_09-04-10_697',\n",
       " '2022-03-09_17-50-27_711',\n",
       " '2022-03-09_17-49-52_759',\n",
       " '2022-03-09_17-55-18_53',\n",
       " '2022-03-10_09-02-27_260',\n",
       " '2022-03-09_17-54-46_355',\n",
       " '2022-03-09_17-53-36_629',\n",
       " '2022-03-10_09-02-17_330',\n",
       " '2022-03-09_17-49-28_129',\n",
       " '2022-03-10_09-04-29_570']"
      ]
     },
     "execution_count": 1,
     "metadata": {},
     "output_type": "execute_result"
    }
   ],
   "source": [
    "# Plotting libraries and setting\n",
    "import matplotlib.pyplot as plt\n",
    "import matplotlib\n",
    "matplotlib.rcParams['text.usetex'] = True\n",
    "\n",
    "import seaborn as sns\n",
    "cmap = sns.color_palette('deep', as_cmap=True)\n",
    "from qplotting import Qplotter\n",
    "from qplotting.utils import set_size_pt\n",
    "\n",
    "# Useful libraries\n",
    "import numpy as np\n",
    "import json\n",
    "from tqdm import tqdm\n",
    "import pprint\n",
    "pp = pprint.PrettyPrinter(indent=4)\n",
    "\n",
    "# Simulation experiment\n",
    "from qcircha.utils import gather_data, list_data\n",
    "\n",
    "# Path of the simulation data\n",
    "data_path = \"./data/expr/\"\n",
    "list_data(path=data_path)"
   ]
  },
  {
   "cell_type": "markdown",
   "metadata": {},
   "source": [
    "##  Usage"
   ]
  },
  {
   "cell_type": "code",
   "execution_count": 3,
   "metadata": {},
   "outputs": [
    {
     "name": "stdout",
     "output_type": "stream",
     "text": [
      "4 runs available. Selecting run: 2022-03-10_09-02-54_218\n",
      "{   'alternate': True,\n",
      "    'backend': 'Aer',\n",
      "    'fmap': 'identity-1987',\n",
      "    'fmap_entanglement': 'None',\n",
      "    'n_bins': 100,\n",
      "    'num_qubits': 8,\n",
      "    'var_ansatz': 'TwoLocal_parametricRz-91',\n",
      "    'var_entanglement': 'linear'}\n"
     ]
    }
   ],
   "source": [
    "# Provide keys in the json file, and corresponding desired value\n",
    "data_runs = gather_data(key=['n_bins', 'num_qubits','fmap', 'var_ansatz'],\n",
    "                        value=[100, 8, 'identity', 'TwoLocal_parametricRz'],\n",
    "                        path=data_path)\n",
    "\n",
    "# Select a run from those satisfying (key, values) requirements above\n",
    "idx_run = 0\n",
    "run = data_runs[idx_run]\n",
    "print(f\"{len(data_runs)} runs available. Selecting run: {run}\")\n",
    "\n",
    "expr_data = np.load(data_path + run + \".npy\", allow_pickle=True)\n",
    "with open(data_path + run + '.json') as file:\n",
    "    expr_metadata = json.load(file)\n",
    "pp.pprint(expr_metadata)"
   ]
  },
  {
   "cell_type": "code",
   "execution_count": 4,
   "metadata": {},
   "outputs": [
    {
     "data": {
      "image/png": "[encoded data removed]",
      "text/plain": [
       "<Figure size 691.2x432 with 1 Axes>"
      ]
     },
     "metadata": {},
     "output_type": "display_data"
    }
   ],
   "source": [
    "fig = plt.figure(figsize=(9.6, 6))\n",
    "\n",
    "plt.ylabel(r\"Expressivity $D_{KL}$\")\n",
    "plt.xlabel(\"Number of layers, $L$\")\n",
    "\n",
    "plt.yscale('log')\n",
    "plt.plot(range(1, len(expr_data)+1), expr_data, marker='o', ls='--')\n",
    "plt.tight_layout()"
   ]
  },
  {
   "cell_type": "markdown",
   "metadata": {},
   "source": [
    "## Expressibility plot"
   ]
  },
  {
   "cell_type": "markdown",
   "metadata": {},
   "source": [
    "This plot is obtained by averaging results from four runs of the histogram constructions for each QNNs. As each run is rather bumpy (especially near convergence at $L\\approx n$), this is done to smooth out noise and get reliable results. "
   ]
  },
  {
   "cell_type": "code",
   "execution_count": 2,
   "metadata": {},
   "outputs": [
    {
     "name": "stdout",
     "output_type": "stream",
     "text": [
      "Averaging over 4 runs\n",
      "Averaging over 4 runs\n",
      "Averaging over 4 runs\n",
      "Averaging over 4 runs\n"
     ]
    }
   ],
   "source": [
    "# SELECTING FIRST QNN ARCHITECTURE\n",
    "data_runs = gather_data(key=['n_bins', 'num_qubits', 'fmap', 'var_ansatz', 'var_entanglement'],\n",
    "                        value=[100, 8, 'ZZFeatureMap', 'TwoLocal', 'linear'],\n",
    "                        path=data_path)\n",
    "\n",
    "expr_data = []\n",
    "for run in data_runs:\n",
    "    expr_data.append(np.load(data_path + run + \".npy\", allow_pickle=True))\n",
    "expr_data = np.array(expr_data)\n",
    "expr_data = np.mean(expr_data, axis = 0) # <--- Averaging the histograms of this structure obtained with different runs!\n",
    "print(f\"Averaging over {len(data_runs)} runs\")\n",
    "# --------------------------------------------------------------\n",
    "\n",
    "\n",
    "# SELECTING SECOND QNN ARCHITECTURE\n",
    "data_runs = gather_data(key=['n_bins', 'num_qubits', 'fmap', 'var_ansatz', 'var_entanglement'],\n",
    "                        value=[100, 8, 'TwoLocal', 'TwoLocal', 'linear'],\n",
    "                        path=data_path)\n",
    "\n",
    "expr_data1 = []\n",
    "for run in data_runs:\n",
    "    expr_data1.append(np.load(data_path + run + \".npy\", allow_pickle=True))\n",
    "expr_data1 = np.array(expr_data1)\n",
    "expr_data1 = np.mean(expr_data1, axis=0)\n",
    "print(f\"Averaging over {len(data_runs)} runs\")\n",
    "# --------------------------------------------------------------\n",
    "\n",
    "\n",
    "# SELECTING THIRD QNN ARCHITECTURE\n",
    "data_runs = gather_data(key=['n_bins', 'num_qubits', 'fmap', 'var_ansatz', 'var_entanglement'],\n",
    "                        value=[100, 8, 'TwoLocal_parametricRz', 'TwoLocal', 'linear'],\n",
    "                        path=data_path)\n",
    "\n",
    "expr_data2 = []\n",
    "for run in data_runs:\n",
    "    expr_data2.append(np.load(data_path + run + \".npy\", allow_pickle=True))\n",
    "expr_data2 = np.array(expr_data2)\n",
    "expr_data2 = np.mean(expr_data2, axis=0)\n",
    "print(f\"Averaging over {len(data_runs)} runs\")\n",
    "# --------------------------------------------------------------\n",
    "\n",
    "\n",
    "# SELECTING FOURTH QNN ARCHITECTURE\n",
    "data_runs = gather_data(key=['n_bins', 'num_qubits', 'fmap', 'var_ansatz', 'var_entanglement'],\n",
    "                        value=[100, 8, 'circuit1', 'TwoLocal', 'linear'],\n",
    "                        path=data_path)\n",
    "\n",
    "expr_data3 = []\n",
    "for run in data_runs:\n",
    "    expr_data3.append(np.load(data_path + run + \".npy\", allow_pickle=True))\n",
    "expr_data3 = np.array(expr_data3)\n",
    "expr_data3 = np.mean(expr_data3, axis=0)\n",
    "print(f\"Averaging over {len(data_runs)} runs\")\n",
    "# --------------------------------------------------------------\n",
    "\n",
    "\n",
    "data_to_plot = [expr_data, expr_data1, expr_data2, expr_data3]"
   ]
  },
  {
   "cell_type": "markdown",
   "metadata": {},
   "source": [
    "Plot"
   ]
  },
  {
   "cell_type": "code",
   "execution_count": 8,
   "metadata": {},
   "outputs": [
    {
     "name": "stdout",
     "output_type": "stream",
     "text": [
      "Fig dimension in pt: 234 144\n"
     ]
    },
    {
     "data": {
      "image/png": "[encoded data removed]",
      "text/plain": [
       "<Figure size 233.126x144.08 with 1 Axes>"
      ]
     },
     "metadata": {},
     "output_type": "display_data"
    }
   ],
   "source": [
    "with Qplotter() as qplt:\n",
    "\n",
    "    qplt.set_ylabel(\"Expressibility\")\n",
    "    qplt.set_xlabel(\"Number of layers $L$\")\n",
    "    qplt.set_yscale('log')\n",
    "\n",
    "    #plt.plot([], [], lw=0, label=\"$n=8$\")\n",
    "    #plt.plot([], [], lw=0, label=\"Linear entanglement\")\n",
    "    #plt.plot([], [], lw=0, color='grey', label=\"$V =\\:$ Circuit 2\")\n",
    "\n",
    "    # these are matplotlib.patch.Patch properties\n",
    "    props = dict(boxstyle='round', facecolor='wheat', alpha=0.5, edgecolor='w')\n",
    "    qplt.text(6, 5e-2, \"Low expressibility\", bbox=props)\n",
    "    qplt.text(6, 1.1e-3, \"High expressibility\", bbox=props)\n",
    "\n",
    "\n",
    "    # Check the order with the cell above!\n",
    "    names = [r'$\\mathcal{F} =\\: \\textsc{C}_\\textsc{ZZ}$', r'$\\mathcal{F} =\\:\\textsc{C}_\\textsc{2}$',\n",
    "            r'$\\mathcal{F} =\\:\\textsc{C}_\\textsc{3}$', r'$\\mathcal{F} =\\:\\textsc{C}_\\textsc{1}$']\n",
    "\n",
    "    alphas = np.ones(len(data_to_plot)) #np.linspace(0.4, 1, len(data_to_plot))[::-1]\n",
    "    for idx, d in enumerate(data_to_plot):\n",
    "        qplt.ax.plot(range(1, len(d)+1), d, color=cmap[idx], alpha=alphas[idx], marker='o', ls='--', label=names[idx])\n",
    "\n",
    "    qplt.set_xticks(range(1, 11))\n",
    "\n",
    "    handles, labels = qplt.ax.get_legend_handles_labels()\n",
    "    # sort both labels and handles by labels\n",
    "    sorter = [0, 3, 1, 2]\n",
    "    labels = np.array(labels)[sorter]\n",
    "    handles = np.array(handles)[sorter]\n",
    "    qplt.ax.legend(handles, labels, loc=\"upper center\", ncol=2, handletextpad=0.4, handlelength=3, frameon = False, fontsize=7)\n",
    "    qplt.tick_params(axis='y', which='major', left=True)\n",
    "    qplt.tick_params(axis='y', which='minor', right=False)\n",
    "    qplt.tick_params(axis='x', which='major', bottom=True)\n",
    "    qplt.tick_params(axis='x', which='both', top=False)\n",
    "\n",
    "    qplt.savefig(\"images/expr_linear_comparison_final.pdf\")"
   ]
  },
  {
   "cell_type": "markdown",
   "metadata": {},
   "source": [
    "## Example of additional custom simulations"
   ]
  },
  {
   "cell_type": "code",
   "execution_count": null,
   "metadata": {},
   "outputs": [],
   "source": [
    "from qiskit.circuit.library import TwoLocal, ZZFeatureMap\n",
    "from qcircha.expressivity import compute_espressivity"
   ]
  },
  {
   "cell_type": "code",
   "execution_count": null,
   "metadata": {},
   "outputs": [],
   "source": [
    "%%capture\n",
    "nq = 8\n",
    "circ = TwoLocal(nq, ['rx'], 'cx', 'linear', reps=1, skip_final_rotation_layer=True)\n",
    "a = compute_espressivity(nq, nq, feature_map='TwoLocal', var_ansatz='TwoLocal', backend='Aer', path=None, plot=False, save=False)\n",
    "\n",
    "circ = TwoLocal(nq, ['rx'], 'cx', 'linear', reps=1, skip_final_rotation_layer=True)\n",
    "b = compute_espressivity(nq, nq, feature_map='TwoLocal', var_ansatz=circ, backend='Aer', path=None, plot=False, save=False)\n",
    "\n",
    "circ = 'circuit15' # TwoLocal(nq, ['rx'], 'cx', 'linear', reps=1, skip_final_rotation_layer=True)\n",
    "c = compute_espressivity(nq, nq, feature_map='Identity', var_ansatz=circ, backend='Aer', path=None, plot=False, save=False)"
   ]
  },
  {
   "cell_type": "code",
   "execution_count": null,
   "metadata": {},
   "outputs": [],
   "source": [
    "fig = plt.figure(figsize=(9.6, 6))\n",
    "\n",
    "plt.ylabel(r\"Expressivity $D_{KL}$\")\n",
    "plt.xlabel(\"Number of layers, $L$\")\n",
    "\n",
    "plt.yscale('log')\n",
    "plt.plot(range(1, len(a)+1), a, marker='o', ls='--', label=\"a\")\n",
    "plt.plot(range(1, len(b)+1), b, marker='o', ls='--', label=\"b\")\n",
    "plt.plot(range(1, len(c)+1), c, marker='o', ls='--', label=\"c\")\n",
    "\n",
    "plt.legend()\n",
    "plt.tight_layout()"
   ]
  }
 ],
 "metadata": {
  "kernelspec": {
   "display_name": "Python 3.9.7 ('py_tn')",
   "language": "python",
   "name": "python3"
  },
  "language_info": {
   "codemirror_mode": {
    "name": "ipython",
    "version": 3
   },
   "file_extension": ".py",
   "mimetype": "text/x-python",
   "name": "python",
   "nbconvert_exporter": "python",
   "pygments_lexer": "ipython3",
   "version": "3.9.7"
  },
  "orig_nbformat": 4,
  "vscode": {
   "interpreter": {
    "hash": "639848ca415c9b0e020bb8071f32c875f804b698c3fc0c66541f206d1ea5634d"
   }
  }
 },
 "nbformat": 4,
 "nbformat_minor": 2
}
