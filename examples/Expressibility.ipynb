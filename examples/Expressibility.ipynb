{
 "cells": [
  {
   "cell_type": "markdown",
   "metadata": {},
   "source": [
    "# Expressibility: gather and plot results"
   ]
  },
  {
   "cell_type": "code",
   "execution_count": null,
   "metadata": {},
   "outputs": [],
   "source": [
    "# Plotting libraries and setting\n",
    "import matplotlib.pyplot as plt\n",
    "import matplotlib\n",
    "matplotlib.rcParams['text.usetex'] = True\n",
    "\n",
    "import seaborn as sns\n",
    "cmap = sns.color_palette('deep', as_cmap=True)\n",
    "\n",
    "# Useful libraries\n",
    "import numpy as np\n",
    "import json\n",
    "from tqdm import tqdm\n",
    "import pprint\n",
    "pp = pprint.PrettyPrinter(indent=4)\n",
    "\n",
    "# Simulation experiment\n",
    "from qcircha.utils import gather_data, list_data\n",
    "from qcircha.circuit_selector import pick_circuit\n",
    "\n",
    "# Path of the simulation data\n",
    "data_path = \"./data/expr/\"\n",
    "list_data(path=data_path)"
   ]
  },
  {
   "cell_type": "markdown",
   "metadata": {},
   "source": [
    "##  Usage"
   ]
  },
  {
   "cell_type": "code",
   "execution_count": null,
   "metadata": {},
   "outputs": [],
   "source": [
    "# Provide keys in the json file, and corresponding desired value\n",
    "data_runs = gather_data(key=['n_bins', 'num_qubits','fmap', 'var_ansatz'],\n",
    "                        value=[100, 8, 'identity', 'TwoLocal_parametricRz'],\n",
    "                        path=data_path)\n",
    "\n",
    "# Select a run from those satisfying (key, values) requirements above\n",
    "idx_run = 0\n",
    "run = data_runs[idx_run]\n",
    "print(f\"{len(data_runs)} runs available. Selecting run: {run}\")\n",
    "\n",
    "expr_data = np.load(data_path + run + \".npy\", allow_pickle=True)\n",
    "with open(data_path + run + '.json') as file:\n",
    "    expr_metadata = json.load(file)\n",
    "pp.pprint(expr_metadata)"
   ]
  },
  {
   "cell_type": "code",
   "execution_count": null,
   "metadata": {},
   "outputs": [],
   "source": [
    "fig = plt.figure(figsize=(9.6, 6))\n",
    "\n",
    "plt.ylabel(r\"Expressivity $D_{KL}$\")\n",
    "plt.xlabel(\"Number of layers, $L$\")\n",
    "\n",
    "plt.yscale('log')\n",
    "plt.plot(range(1, len(expr_data)+1), expr_data, marker='o', ls='--')\n",
    "plt.tight_layout()"
   ]
  },
  {
   "cell_type": "markdown",
   "metadata": {},
   "source": [
    "## Expressibility plot"
   ]
  },
  {
   "cell_type": "markdown",
   "metadata": {},
   "source": [
    "This plot is obtained by averaging results from four runs of the histogram constructions for each QNNs. As each run is rather bumpy (especially near convergence at $L\\approx n$), this is done to smooth out noise and get reliable results. "
   ]
  },
  {
   "cell_type": "code",
   "execution_count": null,
   "metadata": {},
   "outputs": [],
   "source": [
    "# SELECTING FIRST QNN ARCHITECTURE\n",
    "data_runs = gather_data(key=['n_bins', 'num_qubits', 'fmap', 'var_ansatz', 'var_entanglement'],\n",
    "                        value=[100, 8, 'ZZFeatureMap', 'TwoLocal', 'linear'],\n",
    "                        path=data_path)\n",
    "                     \n",
    "expr_data = []\n",
    "for run in data_runs:\n",
    "    expr_data.append(np.load(data_path + run + \".npy\", allow_pickle=True))\n",
    "expr_data = np.array(expr_data)\n",
    "expr_data = np.mean(expr_data, axis = 0) # <--- Averaging the histograms of this structure obtained with different runs!\n",
    "print(f\"Averaging over {len(data_runs)} runs\")\n",
    "# --------------------------------------------------------------\n",
    "\n",
    "\n",
    "# SELECTING SECOND QNN ARCHITECTURE\n",
    "data_runs = gather_data(key=['n_bins', 'num_qubits', 'fmap', 'var_ansatz', 'var_entanglement'],\n",
    "                        value=[100, 8, 'TwoLocal', 'TwoLocal', 'linear'],\n",
    "                        path=data_path)\n",
    "\n",
    "expr_data1 = []\n",
    "for run in data_runs:\n",
    "    expr_data1.append(np.load(data_path + run + \".npy\", allow_pickle=True))\n",
    "expr_data1 = np.array(expr_data1)\n",
    "expr_data1 = np.mean(expr_data1, axis=0)\n",
    "print(f\"Averaging over {len(data_runs)} runs\")\n",
    "# --------------------------------------------------------------\n",
    "\n",
    "\n",
    "# SELECTING THIRD QNN ARCHITECTURE\n",
    "data_runs = gather_data(key=['n_bins', 'num_qubits', 'fmap', 'var_ansatz', 'var_entanglement'],\n",
    "                        value=[100, 8, 'TwoLocal_parametricRz', 'TwoLocal', 'linear'],\n",
    "                        path=data_path)\n",
    "\n",
    "expr_data2 = []\n",
    "for run in data_runs:\n",
    "    expr_data2.append(np.load(data_path + run + \".npy\", allow_pickle=True))\n",
    "expr_data2 = np.array(expr_data2)\n",
    "expr_data2 = np.mean(expr_data2, axis=0)\n",
    "print(f\"Averaging over {len(data_runs)} runs\")\n",
    "# --------------------------------------------------------------\n",
    "\n",
    "\n",
    "# SELECTING FOURTH QNN ARCHITECTURE\n",
    "data_runs = gather_data(key=['n_bins', 'num_qubits', 'fmap', 'var_ansatz', 'var_entanglement'],\n",
    "                        value=[100, 8, 'circuit1', 'TwoLocal', 'linear'],\n",
    "                        path=data_path)\n",
    "\n",
    "expr_data3 = []\n",
    "for run in data_runs:\n",
    "    expr_data3.append(np.load(data_path + run + \".npy\", allow_pickle=True))\n",
    "expr_data3 = np.array(expr_data3)\n",
    "expr_data3 = np.mean(expr_data3, axis=0)\n",
    "print(f\"Averaging over {len(data_runs)} runs\")\n",
    "# --------------------------------------------------------------\n",
    "\n",
    "\n",
    "data_to_plot = [expr_data, expr_data1, expr_data2, expr_data3]"
   ]
  },
  {
   "cell_type": "markdown",
   "metadata": {},
   "source": [
    "Plot"
   ]
  },
  {
   "cell_type": "code",
   "execution_count": null,
   "metadata": {},
   "outputs": [],
   "source": [
    "fig = plt.figure(figsize=(9.6, 6))\n",
    "\n",
    "plt.ylabel(\"Expressibility\", fontsize=20, labelpad=7)\n",
    "plt.xlabel(\"Number of layers $L$\", fontsize=20, labelpad=7)\n",
    "plt.yscale('log')\n",
    "\n",
    "#plt.plot([], [], lw=0, label=\"$n=8$\")\n",
    "#plt.plot([], [], lw=0, label=\"Linear entanglement\")\n",
    "#plt.plot([], [], lw=0, color='grey', label=\"$V =\\:$ Circuit 2\")\n",
    "\n",
    "# these are matplotlib.patch.Patch properties\n",
    "props = dict(boxstyle='round', facecolor='wheat', alpha=0.5, edgecolor='w')\n",
    "plt.text(8.35, 5e-2, \"Low expressibility\", bbox=props,  fontsize=14)\n",
    "plt.text(8.35, 1.1e-3, \"High expressibility\", bbox=props, fontsize=14)\n",
    "\n",
    "\n",
    "# Check the order with the cell above!\n",
    "names = ['$\\mathcal{F} =\\:$ ZZFeatureMap', '$\\mathcal{F} =\\:$ Circuit 2',\n",
    "         '$\\mathcal{F} =\\:$ Circuit 3', '$\\mathcal{F} =\\:$ Circuit 1', '$\\mathcal{F} =\\:$ Identity']\n",
    "\n",
    "# np.linspace(0.4, 1, len(data_to_plot))[::-1]\n",
    "alphas = np.ones(len(data_to_plot))\n",
    "for idx, d in enumerate(data_to_plot):\n",
    "    plt.plot(range(1, len(d)+1), d, color=cmap[idx], alpha=alphas[idx],\n",
    "             marker='o', ls='--', label=names[idx], markersize=7)\n",
    "\n",
    "plt.xticks(range(1, 11))\n",
    "\n",
    "plt.legend(fontsize = 16)\n",
    "plt.tight_layout()\n",
    "plt.savefig(\"expr_linear_comparison_final.pdf\", format = 'pdf')"
   ]
  },
  {
   "cell_type": "markdown",
   "metadata": {},
   "source": [
    "## Example of additional custom simulations"
   ]
  },
  {
   "cell_type": "code",
   "execution_count": null,
   "metadata": {},
   "outputs": [],
   "source": [
    "from qiskit.circuit.library import TwoLocal, ZZFeatureMap\n",
    "from qcircha.expressivity import compute_espressivity"
   ]
  },
  {
   "cell_type": "code",
   "execution_count": null,
   "metadata": {},
   "outputs": [],
   "source": [
    "%%capture\n",
    "nq = 8\n",
    "circ = TwoLocal(nq, ['rx'], 'cx', 'linear', reps=1, skip_final_rotation_layer=True)\n",
    "a = compute_espressivity(nq, nq, feature_map='TwoLocal', var_ansatz='TwoLocal', backend='Aer', path=None, plot=False, save=False)\n",
    "\n",
    "circ = TwoLocal(nq, ['rx'], 'cx', 'linear', reps=1, skip_final_rotation_layer=True)\n",
    "b = compute_espressivity(nq, nq, feature_map='TwoLocal', var_ansatz=circ, backend='Aer', path=None, plot=False, save=False)\n",
    "\n",
    "circ = 'circuit15' # TwoLocal(nq, ['rx'], 'cx', 'linear', reps=1, skip_final_rotation_layer=True)\n",
    "c = compute_espressivity(nq, nq, feature_map='Identity', var_ansatz=circ, backend='Aer', path=None, plot=False, save=False)"
   ]
  },
  {
   "cell_type": "code",
   "execution_count": null,
   "metadata": {},
   "outputs": [],
   "source": [
    "fig = plt.figure(figsize=(9.6, 6))\n",
    "\n",
    "plt.ylabel(r\"Expressivity $D_{KL}$\")\n",
    "plt.xlabel(\"Number of layers, $L$\")\n",
    "\n",
    "plt.yscale('log')\n",
    "plt.plot(range(1, len(a)+1), a, marker='o', ls='--', label=\"a\")\n",
    "plt.plot(range(1, len(b)+1), b, marker='o', ls='--', label=\"b\")\n",
    "plt.plot(range(1, len(c)+1), c, marker='o', ls='--', label=\"c\")\n",
    "\n",
    "plt.legend()\n",
    "plt.tight_layout()"
   ]
  }
 ],
 "metadata": {
  "interpreter": {
   "hash": "4f32f21c3de35334d3da59bc9f146f0c4f894e84ab0c68b497b9a4c513b6214e"
  },
  "kernelspec": {
   "display_name": "Python 3.8.12 64-bit ('QNN-TN': conda)",
   "language": "python",
   "name": "python3"
  },
  "language_info": {
   "codemirror_mode": {
    "name": "ipython",
    "version": 3
   },
   "file_extension": ".py",
   "mimetype": "text/x-python",
   "name": "python",
   "nbconvert_exporter": "python",
   "pygments_lexer": "ipython3",
   "version": "3.8.12"
  },
  "orig_nbformat": 4
 },
 "nbformat": 4,
 "nbformat_minor": 2
}
