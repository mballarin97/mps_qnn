{
 "cells": [
  {
   "cell_type": "markdown",
   "metadata": {},
   "source": [
    "# Entanglement: gather and plot results"
   ]
  },
  {
   "cell_type": "code",
   "execution_count": null,
   "metadata": {},
   "outputs": [],
   "source": [
    "# Plotting libraries and setting\n",
    "import matplotlib.pyplot as plt\n",
    "import matplotlib\n",
    "matplotlib.rcParams['text.usetex'] = True\n",
    "\n",
    "import seaborn as sns\n",
    "cmap = sns.color_palette(as_cmap=True)\n",
    "sns.set_context(\"paper\")\n",
    "\n",
    "# Useful libraries\n",
    "import numpy as np\n",
    "import json\n",
    "from tqdm import tqdm\n",
    "import pprint\n",
    "pp = pprint.PrettyPrinter(indent=4)\n",
    "\n",
    "# Simulation experiment\n",
    "from qcircha.utils import gather_data, list_data\n",
    "from qcircha.circuit_selector import pick_circuit\n",
    "\n",
    "# Path of the simulation data\n",
    "data_path = \"./data/ent_scaling/\"\n",
    "list_data(path=data_path)"
   ]
  },
  {
   "cell_type": "markdown",
   "metadata": {},
   "source": [
    "## Entanglement scaling"
   ]
  },
  {
   "cell_type": "markdown",
   "metadata": {},
   "source": [
    "##### 1) Single plot"
   ]
  },
  {
   "cell_type": "markdown",
   "metadata": {},
   "source": [
    "Select a results from existing simulation run, given specifics of the QNN: _feature map_, _variational ansatz_, _entanglement topology_, ... . Inspect a `.json` file in the data folder to check available keys. "
   ]
  },
  {
   "cell_type": "code",
   "execution_count": null,
   "metadata": {},
   "outputs": [],
   "source": [
    "# Provide keys in the json file, and corresponding desired value\n",
    "data_runs = gather_data(key   = ['alternate', 'fmap'        , 'var_entanglement'],\n",
    "                        value=[True,          'TwoLocal', 'linear'],\n",
    "                        path=data_path)\n",
    "\n",
    "# Select a run from those satisfying (key, values) requirements above\n",
    "idx_run = 0\n",
    "run = data_runs[idx_run]\n",
    "print(f\"{len(data_runs)} runs available. Selecting run: {run}\")\n",
    "\n",
    "# Load data\n",
    "ent_data = np.load(data_path + run + \".npy\", allow_pickle=True)\n",
    "with open(data_path + run + '.json') as file:\n",
    "    ent_metadata = json.load(file)\n",
    "pp.pprint(ent_metadata)"
   ]
  },
  {
   "cell_type": "markdown",
   "metadata": {},
   "source": [
    "A single element in the `ent_data` list, be it `data = ent_data[0]`, contains the results for a specific number of qubits, with varying repetitions. It is organized as follows:\n",
    "1. `data[0]`: contains total entanglement (1d-array of dimension num_reps)\n",
    "2. `data[1]`: standard deviation of total entanglement (not significant as results are consistent)\n",
    "3. `data[3]`: expected total entanglement if Haar."
   ]
  },
  {
   "cell_type": "code",
   "execution_count": null,
   "metadata": {},
   "outputs": [],
   "source": [
    "fig = plt.figure(figsize=(9.6, 6))\n",
    "\n",
    "title = f\"{ent_metadata['fmap']}_{ent_metadata['var_ansatz']}\"\n",
    "plt.ylabel(\"Total Entanglement Entropy, $S_{tot}$\")\n",
    "plt.xlabel(\"Number of layers, $L$\")\n",
    "\n",
    "plt.ylim(0, max(ent_data[-1, 0])+1)\n",
    "plt.yticks(range(5, int(max(ent_data[-1, 0])+5), 5))\n",
    "\n",
    "n_qubits = np.arange(4, ent_metadata['max_num_qubits']+1, 2, dtype=int)\n",
    "for idx, data in enumerate(ent_data):\n",
    "    plt.hlines(data[2], 1, len(ent_data[-1, 0]),\n",
    "               ls=\"--\", color=cmap[idx], lw=2, alpha=0.5)\n",
    "    plt.plot(range(1, len(data[0])+1), data[0], ls=\"--\",\n",
    "             marker=\"o\", c=cmap[idx], label=f\"$n = {n_qubits[idx]}$\")\n",
    "\n",
    "plt.plot([], [], ls='--', color=cmap[idx+1], label=\"Haar-random\")\n",
    "\n",
    "plt.legend(loc=4)\n",
    "plt.tight_layout()\n",
    "#plt.savefig(\"data/Imgs/\" + run + \".pdf\", format=\"pdf\")"
   ]
  },
  {
   "cell_type": "markdown",
   "metadata": {},
   "source": [
    "##### 2) Entanglement map comparison: linear vs. circular vs. a2a"
   ]
  },
  {
   "cell_type": "markdown",
   "metadata": {},
   "source": [
    "Selecting data"
   ]
  },
  {
   "cell_type": "code",
   "execution_count": null,
   "metadata": {},
   "outputs": [],
   "source": [
    "ent_datas = dict()\n",
    "for ent_map in ['linear', 'circular', 'full']:\n",
    "    data_runs = gather_data(key=['alternate', 'fmap'                 , 'var_ansatz', 'var_entanglement'],\n",
    "                            value=[True     , 'TwoLocal_parametricRz', 'TwoLocal'  , ent_map], \n",
    "                            path=data_path)\n",
    "    \n",
    "    idx_run = 0\n",
    "    run = data_runs[idx_run]\n",
    "    print(f\"{len(data_runs)} runs available. Selecting run: {run}\")\n",
    "\n",
    "    ent_datas[ent_map] = np.load(data_path + run + \".npy\", allow_pickle=True)\n",
    "    with open(data_path + run + '.json') as file:\n",
    "        ent_metadata = json.load(file)\n",
    "    pp.pprint(ent_metadata)"
   ]
  },
  {
   "cell_type": "markdown",
   "metadata": {},
   "source": [
    "Plot data"
   ]
  },
  {
   "cell_type": "code",
   "execution_count": null,
   "metadata": {},
   "outputs": [],
   "source": [
    "def do_plot(dataplot, ax=None):\n",
    "    \"\"\"Custom plot style\"\"\"\n",
    "    # Run trough number of qubits\n",
    "    for idx, data in enumerate(dataplot):\n",
    "        # Haar limit\n",
    "        ax.hlines(data[2], 1, len(_ent[-1, 0]), ls=\"-.\", color=cmap[idx], lw=2, alpha=0.25)\n",
    "        # Simulation results\n",
    "        ax.errorbar(range(1, len(data[0])+1), data[0], yerr=0*data[1], ls=\"--\", marker=markers[jdx], c=cmap[idx], markersize=7, alpha=1)\n",
    "    return \n",
    "\n",
    "\n",
    "fig, axs = plt.subplots(1, 3, figsize=(20, 5), sharey=True, sharex=True)\n",
    "\n",
    "title = f\"{ent_metadata['fmap']}_{ent_metadata['var_ansatz']}\"\n",
    "\n",
    "# SET Y-AXIS\n",
    "plt.ylim(0, max(ent_data[-1, 0])+1)\n",
    "plt.yticks(range(5, int(max(ent_data[-1, 0])+5), 5))\n",
    "\n",
    "n_qubits = np.arange(4, ent_metadata['max_num_qubits']+1, 2, dtype=int)\n",
    "markers = ['o', 'v', 's']\n",
    "\n",
    "# PLOT ENTANGLEMENT DATA\n",
    "# Run through entanglement topology\n",
    "for jdx, (ax, _ent) in enumerate(zip(axs, ent_datas.values())): \n",
    "    do_plot(_ent, ax = ax)\n",
    "\n",
    "# MARKERS LEGEND\n",
    "axs[2].plot([], [], ls=\" \", marker=markers[0], c='gray', label=\"Linear\")\n",
    "axs[2].plot([], [], ls=\" \", marker=markers[1], c='gray', label=\"Circular\")\n",
    "axs[2].plot([], [], ls=\" \", marker=markers[2], c='gray', label=\"Full\")\n",
    "\n",
    "# LINE LEGEND\n",
    "axs[2].plot([], [], ls='-.', color='grey', label=\"Haar-distributed\")\n",
    "for i in list(range(5))[::-1]:\n",
    "    axs[2].plot([], [], lw=3, c=cmap[i], label=f\"Num qubits={n_qubits[i]}\")\n",
    "\n",
    "# SET LABEL NAMES\n",
    "axs[0].set_ylabel(\"Total Entanglement Entropy, $S_{tot}$\")\n",
    "axs[1].set_xlabel(\"Number of layers, $L$\")\n",
    "\n",
    "# PLOT LEGEND\n",
    "axs[2].legend(loc=4)\n",
    "\n",
    "plt.tight_layout()\n",
    "#plt.savefig(\"data/Imgs/\" + 'TwoLocalParam2q_TwoLocal' + \".pdf\", format=\"pdf\")\n"
   ]
  },
  {
   "cell_type": "markdown",
   "metadata": {},
   "source": [
    "##### 3) Full comparison: architecture vs. entanglement"
   ]
  },
  {
   "cell_type": "markdown",
   "metadata": {},
   "source": [
    "Selecting data"
   ]
  },
  {
   "cell_type": "code",
   "execution_count": null,
   "metadata": {},
   "outputs": [],
   "source": [
    "# SELECTING FIRST QNN ARCHITECTURE\n",
    "ent_datas_QNN = dict()\n",
    "for ent_map in ['linear', 'circular', 'full']:\n",
    "    data_runs = gather_data(key=['alternate', 'fmap', 'var_ansatz', 'var_entanglement'],\n",
    "                            value=[True, 'ZZFeatureMap', 'TwoLocal', ent_map],\n",
    "                            path=data_path)\n",
    "\n",
    "    idx_run = 0\n",
    "    run = data_runs[idx_run]\n",
    "    print(f\"{len(data_runs)} runs available. Selecting run: {run}\")\n",
    "\n",
    "    ent_datas_QNN[ent_map] = np.load(data_path + run + \".npy\", allow_pickle=True)\n",
    "    with open(data_path + run + '.json') as file:\n",
    "        ent_metadata = json.load(file)\n",
    "    #pp.pprint(ent_metadata)\n",
    "\n",
    "# SELECTING SECOND QNN ARCHITECTURE\n",
    "print(\" \")\n",
    "\n",
    "ent_datas_QNN1 = dict()\n",
    "for ent_map in ['linear', 'circular', 'full']:\n",
    "    data_runs = gather_data(key=['alternate', 'fmap', 'var_ansatz', 'var_entanglement'],\n",
    "                            value=[True, 'TwoLocal','TwoLocal', ent_map],\n",
    "                            path=data_path)\n",
    "\n",
    "    idx_run = 0\n",
    "    run = data_runs[idx_run]\n",
    "    print(f\"{len(data_runs)} runs available. Selecting run: {run}\")\n",
    "\n",
    "    ent_datas_QNN1[ent_map] = np.load(data_path + run + \".npy\", allow_pickle=True)\n",
    "    with open(data_path + run + '.json') as file:\n",
    "        ent_metadata = json.load(file)\n",
    "    #pp.pprint(ent_metadata)\n",
    "\n",
    "# SELECTING THIRD QNN ARCHITECTURE\n",
    "print(\" \")\n",
    "\n",
    "ent_datas_QNN2 = dict()\n",
    "for ent_map in ['linear', 'circular', 'full']:\n",
    "    data_runs = gather_data(key=['alternate', 'fmap', 'var_ansatz', 'var_entanglement'],\n",
    "                            value=[True, 'TwoLocal_parametricRz','TwoLocal', ent_map],\n",
    "                            path=data_path)\n",
    "\n",
    "    idx_run = 0\n",
    "    run = data_runs[idx_run]\n",
    "    print(f\"{len(data_runs)} runs available. Selecting run: {run}\")\n",
    "\n",
    "    ent_datas_QNN2[ent_map] = np.load(data_path + run + \".npy\", allow_pickle=True)\n",
    "    with open(data_path + run + '.json') as file:\n",
    "        ent_metadata = json.load(file)\n",
    "    #pp.pprint(ent_metadata)\n",
    "\n",
    "# SELECTING FOURTH QNN ARCHITECTURE\n",
    "print(\" \")\n",
    "\n",
    "ent_datas_QNN3 = dict()\n",
    "for ent_map in ['linear', 'circular', 'full']:\n",
    "    data_runs = gather_data(key=['alternate', 'fmap', 'var_ansatz', 'var_entanglement'],\n",
    "                            value=[True, 'circuit1', 'TwoLocal', ent_map],\n",
    "                            path=data_path)\n",
    "\n",
    "    idx_run = 0\n",
    "    run = data_runs[idx_run]\n",
    "    print(f\"{len(data_runs)} runs available. Selecting run: {run}\")\n",
    "\n",
    "    ent_datas_QNN3[ent_map] = np.load(\n",
    "        data_path + run + \".npy\", allow_pickle=True)\n",
    "    with open(data_path + run + '.json') as file:\n",
    "        ent_metadata = json.load(file)\n",
    "    #pp.pprint(ent_metadata)\n",
    "\n",
    "data_to_plot = [ent_datas_QNN, ent_datas_QNN1, ent_datas_QNN2, ent_datas_QNN3]"
   ]
  },
  {
   "cell_type": "markdown",
   "metadata": {},
   "source": [
    "Plot"
   ]
  },
  {
   "cell_type": "code",
   "execution_count": null,
   "metadata": {},
   "outputs": [],
   "source": [
    "def do_plot(dataplot, ax=None):\n",
    "    \"\"\"Custom plot style\"\"\"\n",
    "    # Run trough number of qubits\n",
    "    alphas = np.linspace(0.4, 1, len(dataplot))\n",
    "    for idx, data in enumerate(dataplot):\n",
    "        # Haar limit\n",
    "        ax.hlines(data[2], 1, len(_ent[-1, 0]), ls=\"-.\", color=cmap[idx], lw=2, alpha=0.25)\n",
    "        # Simulation results\n",
    "        ax.errorbar(range(1, len(data[0])+1), data[0], yerr=0*data[1], alpha = alphas[idx], ls=\"--\", marker=markers[jdx], c=cmap[idx], markersize=7)\n",
    "    return\n",
    "\n",
    "fig, axs = plt.subplots(len(data_to_plot), 3, figsize=(20, 12.42), sharey=True, sharex=True)\n",
    "\n",
    "# SET Y-AXIS\n",
    "plt.ylim(0, max(ent_datas_QNN['linear'][-1, 0])+1)\n",
    "plt.yticks(range(5, int(max(ent_datas_QNN['linear'][-1, 0])+5), 5))\n",
    "\n",
    "n_qubits = np.arange(4, ent_metadata['max_num_qubits']+1, 2, dtype=int)\n",
    "markers = ['o', 'v', 's']\n",
    "\n",
    "# PLOT ENTANGLEMENT DATA\n",
    "for kdx, ent_d in enumerate(data_to_plot): # Run through architectures \n",
    "    this_ax = axs[kdx]\n",
    "    for jdx, (ax, _ent) in enumerate(zip(this_ax, ent_d.values())): # Run through entanglement topology\n",
    "        do_plot(_ent, ax = ax)\n",
    "\n",
    "# ADD PANEL LETTER\n",
    "for idx, l in enumerate(['a','b','c','d','f'][:len(data_to_plot)]):\n",
    "    axs[idx,0].text(1., 21., r\"$\\textbf{(\"+l+r\")}$\", fontsize=14)\n",
    "\n",
    "\n",
    "# ENTANGLING TOPOLOGY\n",
    "axs[0, 0].set_title(\"Linear\")\n",
    "axs[0, 1].set_title(\"Circular\")\n",
    "axs[0, 2].set_title(\"Full\")\n",
    "\n",
    "# LINE LEGEND\n",
    "axs[-1, -1].plot([], [], ls='-.', color='grey', label=\"Haar-random\")\n",
    "for i in list(range(5))[::-1]:\n",
    "    axs[-1, -1].plot([], [], lw=3, c=cmap[i], label=f\"$n={n_qubits[i]}$\")\n",
    "\n",
    "# SET LABEL NAMES\n",
    "axs[0,0].set_ylabel(\"Total Entanglement Entropy, $S_{tot}$\")\n",
    "axs[-1,1].set_xlabel(\"Number of layers, $L$\")\n",
    "\n",
    "# PLOT LEGEND\n",
    "axs[-1,-1].legend(loc=4)\n",
    "\n",
    "plt.tight_layout()\n",
    "#plt.savefig(\"data/Imgs/ent_scaling_plots/\" + 'complete_comparison' + \".pdf\", format=\"pdf\")"
   ]
  },
  {
   "cell_type": "markdown",
   "metadata": {},
   "source": [
    "## Entanglement distribution across bonds"
   ]
  },
  {
   "cell_type": "code",
   "execution_count": null,
   "metadata": {},
   "outputs": [],
   "source": [
    "# Plotting libraries and setting\n",
    "import seaborn as sns\n",
    "import numpy as np\n",
    "\n",
    "import matplotlib.pyplot as plt\n",
    "import matplotlib\n",
    "#matplotlib.rcParams['text.usetex'] = True\n",
    "\n",
    "cmap = sns.color_palette(as_cmap=True)\n",
    "sns.set_context(\"paper\")\n",
    "\n",
    "# Simulation experiment\n",
    "from qcircha.experiments import compute_bond_entanglement"
   ]
  },
  {
   "cell_type": "markdown",
   "metadata": {},
   "source": [
    "##### 1) Single architecture plot"
   ]
  },
  {
   "cell_type": "markdown",
   "metadata": {},
   "source": [
    "Generating data"
   ]
  },
  {
   "cell_type": "code",
   "execution_count": null,
   "metadata": {},
   "outputs": [],
   "source": [
    "# Quantum Cirucit structure\n",
    "num_qubits = 8\n",
    "alternate = True\n",
    "\n",
    "# Choose simulation backend\n",
    "#backend = 'MPS'\n",
    "backend = 'Aer'\n",
    "\n",
    "% % capture\n",
    "feature_map = 'Circuit1'\n",
    "var_ansatz = 'TwoLocal'\n",
    "ent_list, max_ent = compute_bond_entanglement(num_qubits,\n",
    "                                              feature_map=feature_map, var_ansatz=var_ansatz,\n",
    "                                              alternate=True, backend=backend,\n",
    "                                              plot=False, max_bond_dim=None)"
   ]
  },
  {
   "cell_type": "markdown",
   "metadata": {},
   "source": [
    "Plot data"
   ]
  },
  {
   "cell_type": "code",
   "execution_count": null,
   "metadata": {},
   "outputs": [],
   "source": [
    "fig = plt.figure(figsize=(9.6, 6))\n",
    "\n",
    "labels = [f'$e_{i}$' for i in range(num_qubits)]\n",
    "plt.xticks(range(num_qubits), labels=labels)\n",
    "plt.ylabel(\"Entanglement Entropy\")\n",
    "plt.xlabel(\"Bond index cut\")\n",
    "\n",
    "alphas = np.linspace(0.5, 1, len(ent_list[:num_qubits-1]))\n",
    "\n",
    "for idx, data in enumerate(ent_list[:num_qubits-1]):\n",
    "    plt.errorbar(range(1, num_qubits), data[0], yerr=0*data[1], color = cmap[idx], alpha = alphas[idx], label=f\"$L={idx+1}$\", marker='o')\n",
    "\n",
    "plt.plot(range(1, num_qubits), max_ent, ls='--', color=cmap[-3], lw=2, alpha=1, marker='d', label=\"Maximally Entangled\")\n",
    "plt.plot(range(1, num_qubits), ent_list[0, 2], ls='-.', color=cmap[-2], lw=2, alpha=1, marker = 'v', label=\"Haar-random\")\n",
    "\n",
    "plt.legend(loc = 1)\n",
    "\n",
    "plt.tight_layout()\n",
    "#plt.savefig(f\"data/Imgs/bond_plots/{feature_map}_{var_ansatz}_linear_2.pdf\", format=\"pdf\")"
   ]
  },
  {
   "cell_type": "markdown",
   "metadata": {},
   "source": [
    "##### 2) Comparison of multiple structures"
   ]
  },
  {
   "cell_type": "markdown",
   "metadata": {},
   "source": [
    "Generating data"
   ]
  },
  {
   "cell_type": "code",
   "execution_count": null,
   "metadata": {},
   "outputs": [],
   "source": [
    "%%capture\n",
    "feature_map = 'ZZFeatureMap'\n",
    "var_ansatz = 'TwoLocal'\n",
    "ent_list, max_ent = compute_bond_entanglement(num_qubits,\n",
    "                                              feature_map=feature_map, var_ansatz=var_ansatz,\n",
    "                                              alternate=True, backend=backend,\n",
    "                                              plot=False, max_bond_dim=None)\n",
    "  \n",
    "print(\"Done! Doing second sctructure...\")\n",
    "\n",
    "feature_map1 = 'ZZFeatureMap_ring'\n",
    "var_ansatz1 = 'TwoLocal_ring'\n",
    "ent_list_c1, max_ent_c1 = compute_bond_entanglement(num_qubits,\n",
    "                                                    feature_map=feature_map1, var_ansatz=var_ansatz1,\n",
    "                                                    alternate=True, backend=backend,\n",
    "                                                    plot=False, max_bond_dim=None)\n",
    "\n",
    "print(\"Done! Doing third sctructure...\")\n",
    "\n",
    "feature_map2 = 'Circuit1'\n",
    "var_ansatz2 = 'TwoLocal'\n",
    "ent_list_c2, max_ent_c2 = compute_bond_entanglement(num_qubits,\n",
    "                                                    feature_map=feature_map2, var_ansatz=var_ansatz2,\n",
    "                                                    alternate=True, backend=backend,\n",
    "                                                    plot=False, max_bond_dim=None)\n",
    "\n",
    "# Data to be plotted\n",
    "to_plot = [ent_list, ent_list_c1, ent_list_c2]"
   ]
  },
  {
   "cell_type": "markdown",
   "metadata": {},
   "source": [
    "Plot data"
   ]
  },
  {
   "cell_type": "code",
   "execution_count": null,
   "metadata": {},
   "outputs": [],
   "source": [
    "def do_plot(dataplot, ax = None):\n",
    "    for idx, data in enumerate(dataplot[:num_qubits-1]):\n",
    "        ax.errorbar(range(1, num_qubits), data[0], yerr=0*data[1], color=cmap[idx], alpha=alphas[idx], label=f\"$L={idx+1}$\", marker='o')\n",
    "    ax.plot(range(1, num_qubits), max_ent, ls='--', color=cmap[-3], lw=2, alpha=1, marker='d', label=\"Maximally entangled\")\n",
    "    ax.plot(range(1, num_qubits), ent_list[0, 2], ls='-.', color=cmap[-2], lw=2, alpha=1, marker='v', label=\"Haar-random\")\n",
    "\n",
    "fig, ax = plt.subplots(len(to_plot),1, figsize = (8, 12), sharex = True)\n",
    "\n",
    "# Set axis names and labels\n",
    "labels = [f'$e_{i}$' for i in range(num_qubits)]\n",
    "ax[0].set_xticks(range(num_qubits), labels=labels)\n",
    "ax[0].set_ylabel(\"Entanglement Entropy\")\n",
    "ax[1].set_xticks(range(num_qubits), labels=labels)\n",
    "ax[1].set_ylabel(\"Entanglement Entropy\")\n",
    "ax[2].set_xticks(range(num_qubits), labels=labels)\n",
    "ax[2].set_ylabel(\"Entanglement Entropy\")\n",
    "ax[2].set_xlabel(\"Bond index cut\")\n",
    "\n",
    "# Define transparencies\n",
    "alphas = np.linspace(0.4, 1, len(ent_list[:num_qubits-1]))\n",
    "\n",
    "# Plot data\n",
    "do_plot(to_plot[0], ax[0])\n",
    "do_plot(to_plot[1], ax[1])\n",
    "do_plot(to_plot[2], ax[2])\n",
    "\n",
    "# Add label to plot\n",
    "ax[0].text(1.1, 2.6, r\"$\\textbf{(a)}$\", fontsize=14)\n",
    "ax[1].text(1.1, 2.6, r\"$\\textbf{(b)}$\", fontsize=14)\n",
    "ax[2].text(1.1, 2.6, r\"$\\textbf{(c)}$\", fontsize=14)\n",
    "\n",
    "# Fix legend position\n",
    "ax[0].legend(loc=1)\n",
    "\n",
    "plt.tight_layout()\n",
    "#plt.savefig(f\"data/Imgs/bond_plots/{feature_map}_{var_ansatz}_{feature_map1}_{var_ansatz1}_{feature_map2}_{var_ansatz2}.pdf\", format=\"pdf\")\n",
    "plt.show()"
   ]
  },
  {
   "cell_type": "markdown",
   "metadata": {},
   "source": [
    "## Alternate vs. Sequential data reuploading"
   ]
  },
  {
   "cell_type": "code",
   "execution_count": null,
   "metadata": {},
   "outputs": [],
   "source": [
    "from mpl_toolkits.mplot3d import Axes3D\n",
    "import matplotlib.pylab as pl\n",
    "\n",
    "import matplotlib.pyplot as plt\n",
    "import matplotlib\n",
    "matplotlib.rcParams['text.usetex'] = True\n",
    "\n",
    "import numpy as np\n",
    "import seaborn as sns\n",
    "cmap = sns.color_palette(as_cmap=True)\n",
    "sns.set_context(\"paper\")"
   ]
  },
  {
   "cell_type": "code",
   "execution_count": null,
   "metadata": {},
   "outputs": [],
   "source": [
    "sns.set_style('white')\n",
    "\n",
    "num_qubs = [4, 6, 8, 10, 12, 14, 20, 30, 40, 50]\n",
    "abbas = {nq: [np.loadtxt(f'data/marcos_plot/alternate_abbas{nq}.npy'), np.loadtxt(f'data/marcos_plot/non_alternate_abbas{nq}.npy')] for nq in num_qubs}\n",
    "\n",
    "fig = plt.figure(figsize=(9.6, 6))\n",
    "ax = pl.subplot(projection='3d')\n",
    "\n",
    "alphas = np.linspace(0.5, 1, len(num_qubs))\n",
    "colors = plt.cm.jet(np.linspace(0, 1, len(num_qubs)))\n",
    "\n",
    "num_qubs = [4, 6, 8, 10, 12, 14, 20]\n",
    "for idx, nq in enumerate(num_qubs):\n",
    "\n",
    "    haar = np.max(abbas[nq][0][0, :])\n",
    "    alternate = abbas[nq][0][1:, nq//2]\n",
    "    non_alternate = abbas[nq][1][1:, nq//2]\n",
    "    fc = 1\n",
    "    if nq != 20:\n",
    "        fc = 2\n",
    "    len_data = min(len(alternate)//fc, len(non_alternate)//fc)\n",
    "    len_data = min(len_data, 20) # fixing plot\n",
    "    \n",
    "    xs = np.arange(1, len_data+1)\n",
    "\n",
    "    y = [nq]*len(xs)\n",
    "\n",
    "    alternate = alternate[:len_data]\n",
    "    non_alternate = non_alternate[:len_data]\n",
    "    normalization = (alternate + non_alternate)/2\n",
    "    z = (alternate - non_alternate)/normalization\n",
    "\n",
    "    ax.plot(xs, y, z, ls=\"-\", marker=\"o\", c=cmap[idx], label=f'Num qub={nq}', alpha = alphas[idx])\n",
    "\n",
    "ax.set_xlabel('$L$', labelpad=3)\n",
    "ax.set_zlabel('$\\Delta S$', labelpad=3)\n",
    "ax.set_ylabel('$n$', labelpad=3)\n",
    "\n",
    "ax.set_xlim(0, 20)\n",
    "ax.set_zlim(0, 0.2)\n",
    "\n",
    "ax.set_xticks(np.arange(0, 21, 4, dtype=int))\n",
    "ax.set_yticks(num_qubs)\n",
    "ax.set_zticks(np.linspace(0, 0.2, 5))\n",
    "\n",
    "# Set color to white (or whatever is \"invisible\")\n",
    "ax.xaxis.pane.set_edgecolor('w')\n",
    "ax.yaxis.pane.set_edgecolor('w')\n",
    "ax.zaxis.pane.set_edgecolor('w')\n",
    "\n",
    "# Grid color setup\n",
    "ax.xaxis._axinfo[\"grid\"].update({\"linewidth\": 1, 'linestyle':'-', 'alpha':0.5, 'color':'w'})\n",
    "ax.yaxis._axinfo[\"grid\"].update({\"linewidth\": 1, 'linestyle': '-', 'alpha': 0.5, 'color': 'w'})\n",
    "ax.zaxis._axinfo[\"grid\"].update({\"linewidth\": 1, 'linestyle': '-', 'alpha': 0.5, 'color': 'w'})\n",
    "#ax.grid(False)\n",
    "\n",
    "# Pane color setup\n",
    "ax.xaxis.pane.set_color('#EAEAF2')\n",
    "ax.yaxis.pane.set_color('#EAEAF2')  # E6E6f2 # #EAEAF2\n",
    "ax.zaxis.pane.set_color('#EAEAF2')\n",
    "\n",
    "# Change view angle (standard is 30, -60)\n",
    "ax.view_init(20, -60)\n",
    "\n",
    "plt.tight_layout()\n",
    "#plt.savefig(\"entanglement_diff_3d.pdf\", format='pdf')"
   ]
  },
  {
   "cell_type": "code",
   "execution_count": null,
   "metadata": {},
   "outputs": [],
   "source": []
  }
 ],
 "metadata": {
  "interpreter": {
   "hash": "4f32f21c3de35334d3da59bc9f146f0c4f894e84ab0c68b497b9a4c513b6214e"
  },
  "kernelspec": {
   "display_name": "Python 3.8.12 64-bit ('QNN-TN': conda)",
   "language": "python",
   "name": "python3"
  },
  "language_info": {
   "codemirror_mode": {
    "name": "ipython",
    "version": 3
   },
   "file_extension": ".py",
   "mimetype": "text/x-python",
   "name": "python",
   "nbconvert_exporter": "python",
   "pygments_lexer": "ipython3",
   "version": "3.8.12"
  },
  "orig_nbformat": 4
 },
 "nbformat": 4,
 "nbformat_minor": 2
}
